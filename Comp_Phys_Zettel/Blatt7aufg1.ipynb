{
 "cells": [
  {
   "cell_type": "markdown",
   "metadata": {},
   "source": [
    "## Excercise 7: Population dynamics\n",
    "\n",
    "In this excercise, the following equation, describing population dynamics, is studied:\n",
    "\n",
    "$$ \\frac{dN}{dt}=rN\\left(1-N/K\\right)-\\frac{BN^2}{A^2+N^2}$$\n",
    "\n",
    "### Part 1\n",
    "\n",
    "First, the given differential equation has to be written in its dimensionless Form. To do that, one has to first determine the dimensions of the parameters used.\n",
    "\n",
    "The dimensions of the parameters used are:\n",
    "\n",
    "$ [N] = [K] = [A] = 1 $ and $[r] = [B] = t^{-1}$\n",
    "\n",
    "Now the equation is put intpo dimentionless form. \n",
    "In the excercise, a dimensionless Version of N was given as $n=N/A$\n",
    "to find a dimensionless version of t, we define a dimensionless variable $\\tau$ and a variable carrying t's dimension s,\n",
    "$$t = s \\tau$$\n",
    "The given terms for N and t are now substituted into the equation, also using their derivatives:\n",
    "$$\\frac{Adn}{sd\\tau}= rnA\\left(1-\\frac{nA}{K}\\right)-\\frac{Bn^2}{1+n^2}\\\\ \\Leftrightarrow \\frac{dn}{d\\tau}= rns\\left(1-\\frac{nA}{K}\\right)-\\frac{Bsn^2}{A(1+n^2)} $$\n",
    "\n",
    "Now we can choose $s$ to eliminate one of the parameters. As the excercise states that we should not choose $r$, we choose to eliminate $B$ instead. \n",
    "So in total, we define the dimensionless variables $n$ and $\\tau$ as $n = NA$ and $\\tau = tB$\n",
    "and the dimensionless differential equation is\n",
    "$$\\frac{dn}{d\\tau}= \\frac{rn}{B}\\left(1-\\frac{nA}{K}\\right)-\\frac{n^2}{A(1+n^2)} $$\n",
    "\n",
    "and all the terms of the equation have dimension 1.\n",
    "\n",
    "\n",
    "\n",
    "\n",
    "\n"
   ]
  },
  {
   "cell_type": "code",
   "execution_count": null,
   "metadata": {},
   "outputs": [],
   "source": []
  }
 ],
 "metadata": {
  "kernelspec": {
   "display_name": "Python 3",
   "language": "python",
   "name": "python3"
  },
  "language_info": {
   "codemirror_mode": {
    "name": "ipython",
    "version": 3
   },
   "file_extension": ".py",
   "mimetype": "text/x-python",
   "name": "python",
   "nbconvert_exporter": "python",
   "pygments_lexer": "ipython3",
   "version": "3.7.4"
  }
 },
 "nbformat": 4,
 "nbformat_minor": 2
}
