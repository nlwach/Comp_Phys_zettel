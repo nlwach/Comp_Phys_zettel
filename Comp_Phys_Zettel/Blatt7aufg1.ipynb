{
 "cells": [
  {
   "cell_type": "markdown",
   "metadata": {},
   "source": [
    "## Excercise 7: Population dynamics\n",
    "\n",
    "In this excercise, the following equation, describing population dynamics, is studied:\n",
    "\n",
    "$$ \\frac{dN}{dt}=rN\\left(1-N/K\\right)-\\frac{BN^2}{A^2+N^2}$$\n",
    "\n",
    "### Part 1\n",
    "\n",
    "First, the given differential equation has to be written in its dimensionless Form. To do that, one has to first determine the dimensions of the parameters used.\n",
    "\n",
    "The dimensions of the parameters used are:\n",
    "\n",
    "$ [N] = [K] = [A] = 1 $ and $[r] = [B] = t^{-1}$\n",
    "\n",
    "Now the equation is put intpo dimentionless form. \n",
    "In the excercise, a dimensionless Version of N was given as $n=N/A$\n",
    "to find a dimensionless version of t, we define a dimensionless variable $\\tau$ and a variable carrying t's dimension s,\n",
    "$$t = s \\tau$$\n",
    "The given terms for N and t are now substituted into the equation, also using their derivatives:\n",
    "$$\\frac{Adn}{sd\\tau}= rnA\\left(1-\\frac{nA}{K}\\right)-\\frac{Bn^2}{1+n^2}\\\\ \\Leftrightarrow \\frac{dn}{d\\tau}= rns\\left(1-\\frac{nA}{K}\\right)-\\frac{Bsn^2}{A(1+n^2)} $$\n",
    "\n",
    "Now we can choose $s$ to eliminate one of the parameters. As the excercise states that we should not choose $r$, we choose to eliminate $B$ instead. \n",
    "So in total, we define the dimensionless variables $n$ and $\\tau$ as $n = N/A$ and $\\tau = tB$\n",
    "and the dimensionless differential equation is\n",
    "$$ f(n):=\\frac{dn}{d\\tau}= \\frac{rn}{B}\\left(1-\\frac{nA}{K}\\right)-\\frac{n^2}{A(1+n^2)} $$\n",
    "\n",
    "and all the terms of the equation have dimension 1.\n",
    "\n",
    "\n",
    "\n",
    "\n",
    "\n"
   ]
  },
  {
   "cell_type": "code",
   "execution_count": null,
   "metadata": {},
   "outputs": [],
   "source": []
  },
  {
   "cell_type": "markdown",
   "metadata": {},
   "source": [
    "### Part 2\n",
    "Now we want to find the static points of the equation, which means soliving the equation  $$\\frac{dn}{d\\tau}= 0$$ for n.\n",
    "\n",
    "a trivial solution of the equation is $$n^*_1=0$$\n",
    "\n",
    "to find the other zero points, we have to solve the equation\n",
    "$$0 = n^3-\\frac{K}{A}n^2+n\\left(1+\\frac{KB}{A^2r}\\right)-\\frac{K}{A}$$\n",
    "it is given on the sheet that $\\frac{K}{A}=7.3.$\n",
    "The remaining free parameter is defined as $\\phi:=\\frac{B}{Ar}$\n",
    "this results in the equation \n",
    "$$0=n^3-7.3n^2+n*\\left(1+7.3\\phi\\right)-7.3$$\n",
    "\n",
    "We entered this equation into GeoGebra, an online graphing tool, that allowed us to plot the function for real n and look for the zero points while varying the parameter $\\phi$. \n",
    "\n",
    "A polynomial of order 3 always has 3 imaginary zero points. one can see clearly in the plots that all possible paramteres $\\phi$ result in at least one real zero point of the function.\n",
    "\n",
    "only for  $\\phi \\in [1.7,1.95]$  we find that there are three real solutions for every $\\phi$. \n",
    "\n",
    "now, to look at the stabilitiy of those points, we have to take a look at the derivative of the function:\n",
    "\n",
    "$$f'(n)=\\frac{1}{A}\\left(\\frac{1}{\\phi}(1-2\\frac{n}{7.3})-\\frac{2n(1+n^2)-2n^2}{(1+n^2)^2}\\right)$$\n",
    "\n",
    "when the derivative of the function $\\frac{df}{dn}<0$, the point is considered stable. \n",
    "\n"
   ]
  },
  {
   "cell_type": "code",
   "execution_count": null,
   "metadata": {},
   "outputs": [],
   "source": []
  }
 ],
 "metadata": {
  "kernelspec": {
   "display_name": "Python 3",
   "language": "python",
   "name": "python3"
  },
  "language_info": {
   "codemirror_mode": {
    "name": "ipython",
    "version": 3
   },
   "file_extension": ".py",
   "mimetype": "text/x-python",
   "name": "python",
   "nbconvert_exporter": "python",
   "pygments_lexer": "ipython3",
   "version": "3.7.4"
  }
 },
 "nbformat": 4,
 "nbformat_minor": 2
}
