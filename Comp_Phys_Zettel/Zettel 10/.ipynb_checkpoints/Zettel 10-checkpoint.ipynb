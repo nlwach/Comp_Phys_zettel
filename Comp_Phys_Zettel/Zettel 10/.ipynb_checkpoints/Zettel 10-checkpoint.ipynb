{
 "cells": [
  {
   "cell_type": "code",
   "execution_count": 7,
   "metadata": {},
   "outputs": [],
   "source": [
    "import numpy as np\n",
    "import matplotlib.pyplot as plt\n",
    "from random import random"
   ]
  },
  {
   "cell_type": "code",
   "execution_count": 46,
   "metadata": {},
   "outputs": [],
   "source": [
    "def I_j_plus_one(d, I_j, c, m):\n",
    "    return (d*I_j+c)%m\n",
    "\n",
    "def norm(I, m):\n",
    "    return I/(m-1)\n",
    "\n",
    "def b(a):\n",
    "    return a**2/2\n",
    "\n",
    "def calc(m, a, c, steps, initial=40):\n",
    "    I = norm(initial, m)\n",
    "    rand_num = [I]\n",
    "    for i in range(steps):\n",
    "        I = I_j_plus_one(a, I, c, m)\n",
    "        rand_num.append(norm(I, m))\n",
    "    return rand_num\n",
    "\n",
    "def calc_pair(steps, interval_1, interval_2):\n",
    "    ran_1 = calc(6075, 106, 1283, steps, initial=40)\n",
    "    ran_2 = calc(6897, 160, 1364, steps, initial=20)\n",
    "    return [x*interval_1 for x in ran_1], [x*interval_2 for x in ran_2]\n",
    "        \n",
    "def rejection(steps, interval_1, interval_2, b, a):\n",
    "    x, y = calc_pair(steps, interval_1, interval_2)\n",
    "    res = []\n",
    "    for i in range(len(x)):\n",
    "        if b(a)*x[i] > y[i]:\n",
    "            res.append(x[i])\n",
    "    return res"
   ]
  },
  {
   "cell_type": "code",
   "execution_count": 61,
   "metadata": {},
   "outputs": [
    {
     "data": {
      "text/plain": [
       "(array([ 111.,  336.,  632.,  827., 1086., 1210., 1480., 1637., 1759.,\n",
       "        1896., 2109., 2404., 2574., 2846., 2984., 3230., 3452., 3566.,\n",
       "        3650., 3872., 4173., 4364., 4640., 4742., 5028., 5178., 5330.,\n",
       "        5486., 5602., 5950., 6177., 6349., 6576., 6796., 6958., 7119.,\n",
       "        7236., 7391., 7707., 7952., 8121., 8364., 8586., 8725., 8939.,\n",
       "        9052., 9139., 9471., 9696., 9923.]),\n",
       " array([0.00329272, 0.01322687, 0.02316101, 0.03309516, 0.04302931,\n",
       "        0.05296345, 0.0628976 , 0.07283174, 0.08276589, 0.09270003,\n",
       "        0.10263418, 0.11256832, 0.12250247, 0.13243662, 0.14237076,\n",
       "        0.15230491, 0.16223905, 0.1721732 , 0.18210734, 0.19204149,\n",
       "        0.20197563, 0.21190978, 0.22184392, 0.23177807, 0.24171222,\n",
       "        0.25164636, 0.26158051, 0.27151465, 0.2814488 , 0.29138294,\n",
       "        0.30131709, 0.31125123, 0.32118538, 0.33111953, 0.34105367,\n",
       "        0.35098782, 0.36092196, 0.37085611, 0.38079025, 0.3907244 ,\n",
       "        0.40065854, 0.41059269, 0.42052684, 0.43046098, 0.44039513,\n",
       "        0.45032927, 0.46026342, 0.47019756, 0.48013171, 0.49006585,\n",
       "        0.5       ]),\n",
       " <a list of 50 Patch objects>)"
      ]
     },
     "execution_count": 61,
     "metadata": {},
     "output_type": "execute_result"
    },
    {
     "data": {
      "image/png": "[encoded data removed]",
      "text/plain": [
       "<Figure size 432x288 with 1 Axes>"
      ]
     },
     "metadata": {
      "needs_background": "light"
     },
     "output_type": "display_data"
    }
   ],
   "source": [
    "a = 0.5\n",
    "\n",
    "x = rejection(1000000, a, b(a), b, a)\n",
    "    \n",
    "plt.hist(x, bins=50)"
   ]
  },
  {
   "cell_type": "code",
   "execution_count": 67,
   "metadata": {},
   "outputs": [],
   "source": [
    "def circ_prob(x):\n",
    "    return np.sqrt(1-x**2)"
   ]
  },
  {
   "cell_type": "code",
   "execution_count": 72,
   "metadata": {},
   "outputs": [],
   "source": [
    "circ = rejection(10000, 1, 1, circ_prob, 1)"
   ]
  },
  {
   "cell_type": "code",
   "execution_count": 84,
   "metadata": {},
   "outputs": [],
   "source": [
    "def rejection_circ(steps, interval_1, interval_2, f):\n",
    "    x, y = calc_pair(steps, interval_1, interval_2)\n",
    "    res_x = []\n",
    "    res_y = []\n",
    "    for i in range(len(x)):\n",
    "        if f(x[i]) >= y[i]:\n",
    "            res_x.append(x[i])\n",
    "            res_y.append(y[i])\n",
    "    return res_x, res_y"
   ]
  },
  {
   "cell_type": "code",
   "execution_count": 85,
   "metadata": {},
   "outputs": [],
   "source": [
    "x, y = rejection_circ(100, 1, 1, circ_prob)"
   ]
  },
  {
   "cell_type": "code",
   "execution_count": 113,
   "metadata": {},
   "outputs": [
    {
     "data": {
      "image/png": "[encoded data removed]",
      "text/plain": [
       "<Figure size 432x288 with 4 Axes>"
      ]
     },
     "metadata": {
      "needs_background": "light"
     },
     "output_type": "display_data"
    }
   ],
   "source": [
    "\n",
    "fig, axs = plt.subplots(2, 2, sharey=True)\n",
    "for i in range(3):\n",
    "    if i <= 1:\n",
    "        ax = axs[0][i]\n",
    "        ax.scatter(x, y, c=\"r\", s=1)\n",
    "        ax.set_aspect(\"equal\", \"box\")\n",
    "        ax.set_ylim(0, 1)\n",
    "        ax.set_xlim(0, 1)\n",
    "    else:\n",
    "        ax = axs[1][i-2]\n",
    "        ax.scatter(x, y, s=2)\n",
    "        ax.set_aspect(\"equal\", \"box\")\n",
    "        ax.set_ylim(0, 1)\n",
    "        ax.set_xlim(0, 1)\n",
    "    "
   ]
  },
  {
   "cell_type": "code",
   "execution_count": null,
   "metadata": {},
   "outputs": [],
   "source": []
  },
  {
   "cell_type": "code",
   "execution_count": null,
   "metadata": {},
   "outputs": [],
   "source": []
  }
 ],
 "metadata": {
  "kernelspec": {
   "display_name": "Python 3",
   "language": "python",
   "name": "python3"
  },
  "language_info": {
   "codemirror_mode": {
    "name": "ipython",
    "version": 3
   },
   "file_extension": ".py",
   "mimetype": "text/x-python",
   "name": "python",
   "nbconvert_exporter": "python",
   "pygments_lexer": "ipython3",
   "version": "3.7.4"
  },
  "latex_envs": {
   "LaTeX_envs_menu_present": true,
   "autoclose": false,
   "autocomplete": true,
   "bibliofile": "biblio.bib",
   "cite_by": "apalike",
   "current_citInitial": 1,
   "eqLabelWithNumbers": true,
   "eqNumInitial": 1,
   "hotkeys": {
    "equation": "Ctrl-E",
    "itemize": "Ctrl-I"
   },
   "labels_anchors": false,
   "latex_user_defs": false,
   "report_style_numbering": false,
   "user_envs_cfg": false
  }
 },
 "nbformat": 4,
 "nbformat_minor": 4
}
