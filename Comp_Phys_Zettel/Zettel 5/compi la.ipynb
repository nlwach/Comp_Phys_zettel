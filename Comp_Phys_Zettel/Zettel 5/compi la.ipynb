{
 "cells": [
  {
   "cell_type": "markdown",
   "metadata": {},
   "source": [
    "## Exercise 5\n",
    "In this exercise are we going to apply basic numerical linear algebra methods.  \n",
    "More specifically, we are going to solve a linear system of equations with a tridiagonal NxN matrix.\n",
    "\n",
    "#### 1. Gaussian elimination\n",
    "At first we implement a method to use the Gaussian elimination on a matrix. This is important since it gives us a triangular matrix in row-echelon form.  \n",
    "\n",
    "If we have a problem of the form Ax=b with A as a matrix, x and b vectors and we're looking for x, we have to apply the same steps of calculation on b as we do on A.  \n",
    "To do this more efficiently we trianglify a new matrix, which is simply the original matrix A with the vector b added as a new column."
   ]
  },
  {
   "cell_type": "code",
   "execution_count": 2,
   "metadata": {},
   "outputs": [],
   "source": [
    "import numpy as np"
   ]
  },
  {
   "cell_type": "code",
   "execution_count": 4,
   "metadata": {},
   "outputs": [],
   "source": [
    "def triag (B): #B is a matrix composed of A and b\n",
    "    n = len(B)\n",
    "    i = 0\n",
    "    j = 0\n",
    "    \n",
    "    while i < n: \n",
    "            B[i] = B[i]/B[i][i] #step 1: bring diagonal elements to 1 (apply this operation on the whole row)\n",
    "            j = i\n",
    "            while j < n:\n",
    "                if j == i:\n",
    "                    j = j+1\n",
    "                else: \n",
    "                    B[j]=B[j]-B[i]*B[j][i] #step 2: elimination of variables \n",
    "                    j = j+1\n",
    "            j = 0\n",
    "            i = i+1\n",
    "            y = np.array(B[:,n]).T\n",
    "            R = np.array(B[:n,:n])\n",
    "    return R,y,B #R is the matrix in triangular form, y is the result of the calculations applied to b\n",
    "                 #B is the matrix containing R and b "
   ]
  },
  {
   "cell_type": "markdown",
   "metadata": {},
   "source": [
    "#### 2. Backwards substitution\n",
    "The next step to solve a linear system of equation is the backwards substitution.  \n",
    "Since this is not needed if the resulting matrix after the Gaussian elimination is a unity matrix, we are going to check that first"
   ]
  },
  {
   "cell_type": "code",
   "execution_count": 5,
   "metadata": {},
   "outputs": [],
   "source": [
    "unitymatrix = None #define boolean (will later be useful)\n",
    "def unity(A):\n",
    "    n = len(A) \n",
    "    i = 0\n",
    "    j = 0\n",
    "    while i < n:\n",
    "        if A[i][i] == 1: #check diagonal elements for 1\n",
    "            while j < n:\n",
    "                if A[i][j] == 0: #check if all other elements are 0\n",
    "                    print('unity matrix')\n",
    "                    j = j+1\n",
    "                    i = i+1\n",
    "                    unitymatrix = True\n",
    "                    break\n",
    "                else:\n",
    "                    print('no unity matrix: need for backward substitution')\n",
    "                    unitymatrix = False\n",
    "                    break\n",
    "            break"
   ]
  },
  {
   "cell_type": "markdown",
   "metadata": {},
   "source": [
    "If we checked our triangular matrix and it is not a unity matrix we need to substitute backwards.  \n",
    "We will use the algorithm as discussed in the tutorium.  \n",
    "  \n",
    "Again, this method uses the linked matrix of matrix and solution."
   ]
  },
  {
   "cell_type": "code",
   "execution_count": 6,
   "metadata": {},
   "outputs": [],
   "source": [
    "def backward(C):\n",
    "    n = len(C)\n",
    "    m = len(C)-1\n",
    "    x = np.ones(n) #create an array for the x-vector\n",
    "    R = np.array(C[:n,:n]) #this is the triangular matrix\n",
    "    y = np.array(C[:,n]) #this is the solution\n",
    "    for i in range(m,-1,-1):\n",
    "        x[i] = y[i]\n",
    "        for j in range(m,i+1,-1):\n",
    "            x[i] = x[i] - C[i][j]*x[j]\n",
    "    return x"
   ]
  },
  {
   "cell_type": "markdown",
   "metadata": {},
   "source": [
    "#### 3. Tridiagonal matrix and solution\n",
    "After implementing the different steps to solve a linear system of equations we now want to put it together into one routine.  \n",
    "  \n",
    "We are looking at the special case of a NxN tridiagonal matrix.  \n",
    "Before we can solve the problem, we have to create the matrix, given the values of $\\vec{a}$, $\\vec{b}$, $\\vec{c}$ and $\\vec{y}$. "
   ]
  },
  {
   "cell_type": "code",
   "execution_count": 8,
   "metadata": {},
   "outputs": [],
   "source": [
    "def matrix(a,b,c,y):\n",
    "    n = len(b)\n",
    "    matrix = np.array(np.ones(n)*0) #create a first row with N entries, every entry is set to 0\n",
    "    i = 1\n",
    "    mat = matrix\n",
    "    while i < n:\n",
    "        mat = np.vstack((mat,matrix)) #iteratively add rows of 0's to the matrix until its form is NxN\n",
    "        i = i+1\n",
    "    j = 0\n",
    "    while j < n:\n",
    "        mat[j][j] = b[j] #put the b-values on the diagonal\n",
    "        j = j+1\n",
    "    k = 0\n",
    "    while k < n-1:\n",
    "        mat[k+1][k] = a[k] #put the a-values on the diagonal below\n",
    "        k = k+1\n",
    "    p = 0\n",
    "    while p < n-1:\n",
    "        mat[p][p+1] = c[p] #put the c- values on the diagonal above b\n",
    "        p = p+1\n",
    "    mat = np.hstack((mat,y)) #add the solution-vector y as a new column\n",
    "    return mat\n"
   ]
  },
  {
   "cell_type": "markdown",
   "metadata": {},
   "source": [
    "So the operation chart to solve our problem is:  \n",
    "1. insert data and create matrix\n",
    "2. use Gaussian elimination to create a triangular matrix\n",
    "3. check if this matrix is a unity matrix  \n",
    "    -> if yes: give out x, this is already the result, no further operations are needed  \n",
    "    -> if not: use backwards substitution to get the result, give out the new calculated result"
   ]
  },
  {
   "cell_type": "code",
   "execution_count": 13,
   "metadata": {},
   "outputs": [],
   "source": [
    "def solution(a,b,c,y): #insert all given values\n",
    "    mat = matrix(a,b,c,y) #create matrix\n",
    "    R,y,B = triag(mat) #trianglify matrix\n",
    "    unity(R) #check for unity matrix\n",
    "    print('the solution is:')\n",
    "    if unitymatrix == True:\n",
    "        print(y) #give out solution if it is a unity matrix\n",
    "    else:\n",
    "        x = backward(B) #otherwise use backward substitution and return result\n",
    "    return x    "
   ]
  },
  {
   "cell_type": "markdown",
   "metadata": {},
   "source": [
    "#### 4. Test the method\n",
    "In this case we set N to 10, all of the a and c values to -1, the b values to 3 and the solution values to 0.2.  \n",
    "We will look if the method works and check the result later."
   ]
  },
  {
   "cell_type": "code",
   "execution_count": 14,
   "metadata": {},
   "outputs": [
    {
     "name": "stdout",
     "output_type": "stream",
     "text": [
      "no unity matrix: need for backward substitution\n",
      "the solution is:\n"
     ]
    },
    {
     "data": {
      "text/plain": [
       "array([0.06666667, 0.1       , 0.11428571, 0.12      , 0.12222222,\n",
       "       0.12307692, 0.12340426, 0.12352941, 0.12357724, 0.12359551])"
      ]
     },
     "execution_count": 14,
     "metadata": {},
     "output_type": "execute_result"
    }
   ],
   "source": [
    "#entry of all of the values as stated above\n",
    "N = 10\n",
    "a = np.ones(N-1)*(-1)\n",
    "b = np.ones(N)*3\n",
    "c = np.ones(N-1)*(-1)\n",
    "y = np.array([[0.2],[0.2],[0.2],[0.2],[0.2],[0.2],[0.2],[0.2],[0.2],[0.2]])\n",
    "\n",
    "#run solution function\n",
    "solution(a,b,c,y)"
   ]
  },
  {
   "cell_type": "markdown",
   "metadata": {},
   "source": [
    "#### 5. Check the result\n",
    "Now we will put the calculated values back into our original equation, which was Ax=y.  \n",
    "Therefore we need the matrix A without the addition of y. To avoid using another function, we will just use *matrix* and slice the row with the y values off."
   ]
  },
  {
   "cell_type": "code",
   "execution_count": 27,
   "metadata": {},
   "outputs": [],
   "source": [
    "mat =matrix(a,b,c,y) #create matrix\n",
    "mat = mat[:10,:10] #slice y off"
   ]
  },
  {
   "cell_type": "code",
   "execution_count": 28,
   "metadata": {},
   "outputs": [
    {
     "name": "stdout",
     "output_type": "stream",
     "text": [
      "[[ 3. -1.  0.  0.  0.  0.  0.  0.  0.  0.]\n",
      " [-1.  3. -1.  0.  0.  0.  0.  0.  0.  0.]\n",
      " [ 0. -1.  3. -1.  0.  0.  0.  0.  0.  0.]\n",
      " [ 0.  0. -1.  3. -1.  0.  0.  0.  0.  0.]\n",
      " [ 0.  0.  0. -1.  3. -1.  0.  0.  0.  0.]\n",
      " [ 0.  0.  0.  0. -1.  3. -1.  0.  0.  0.]\n",
      " [ 0.  0.  0.  0.  0. -1.  3. -1.  0.  0.]\n",
      " [ 0.  0.  0.  0.  0.  0. -1.  3. -1.  0.]\n",
      " [ 0.  0.  0.  0.  0.  0.  0. -1.  3. -1.]\n",
      " [ 0.  0.  0.  0.  0.  0.  0.  0. -1.  3.]]\n"
     ]
    }
   ],
   "source": [
    "print(mat)"
   ]
  },
  {
   "cell_type": "markdown",
   "metadata": {},
   "source": [
    "Since we're multiplying a matrix and a vector we cannot use the normal * to do this. Instead we will use numpys .dot function for matrix multiplication.  \n",
    "  \n",
    "The result of this calculation should be an array containing  0.2 as its only value 10 times."
   ]
  },
  {
   "cell_type": "code",
   "execution_count": 31,
   "metadata": {},
   "outputs": [
    {
     "data": {
      "text/plain": [
       "array([[0.4],\n",
       "       [0.2],\n",
       "       [0.2],\n",
       "       [0.2],\n",
       "       [0.2],\n",
       "       [0.2],\n",
       "       [0.2],\n",
       "       [0.2],\n",
       "       [0.2],\n",
       "       [0.4]])"
      ]
     },
     "execution_count": 31,
     "metadata": {},
     "output_type": "execute_result"
    }
   ],
   "source": [
    "np.dot(mat,y)"
   ]
  },
  {
   "cell_type": "markdown",
   "metadata": {},
   "source": [
    "BLABLABLA VERGLEICH ERGEBNIS BLABLA"
   ]
  },
  {
   "cell_type": "code",
   "execution_count": null,
   "metadata": {},
   "outputs": [],
   "source": []
  },
  {
   "cell_type": "code",
   "execution_count": null,
   "metadata": {},
   "outputs": [],
   "source": []
  }
 ],
 "metadata": {
  "kernelspec": {
   "display_name": "Python 3",
   "language": "python",
   "name": "python3"
  },
  "language_info": {
   "codemirror_mode": {
    "name": "ipython",
    "version": 3
   },
   "file_extension": ".py",
   "mimetype": "text/x-python",
   "name": "python",
   "nbconvert_exporter": "python",
   "pygments_lexer": "ipython3",
   "version": "3.7.4"
  },
  "latex_envs": {
   "LaTeX_envs_menu_present": true,
   "autoclose": false,
   "autocomplete": true,
   "bibliofile": "biblio.bib",
   "cite_by": "apalike",
   "current_citInitial": 1,
   "eqLabelWithNumbers": true,
   "eqNumInitial": 1,
   "hotkeys": {
    "equation": "Ctrl-E",
    "itemize": "Ctrl-I"
   },
   "labels_anchors": false,
   "latex_user_defs": false,
   "report_style_numbering": false,
   "user_envs_cfg": false
  }
 },
 "nbformat": 4,
 "nbformat_minor": 4
}
