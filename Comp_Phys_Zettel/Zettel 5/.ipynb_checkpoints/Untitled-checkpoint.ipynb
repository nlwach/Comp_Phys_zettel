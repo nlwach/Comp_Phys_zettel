{
 "cells": [
  {
   "cell_type": "code",
   "execution_count": 1,
   "metadata": {},
   "outputs": [],
   "source": [
    "import numpy as np"
   ]
  },
  {
   "cell_type": "code",
   "execution_count": 113,
   "metadata": {},
   "outputs": [
    {
     "name": "stdout",
     "output_type": "stream",
     "text": [
      "[-0.500001  1.000001]\n",
      "[0.25 0.5 ]\n"
     ]
    }
   ],
   "source": [
    "A = np.array([[(10**-6), (1/2)],[(1/2), (1/2)]])\n",
    "B = np.array([1/2, 1/4])\n",
    "\n",
    "\n",
    "X = np.linalg.inv(A).dot(B)\n",
    "print(X)\n",
    "print(C.dot(X2))"
   ]
  },
  {
   "cell_type": "code",
   "execution_count": 114,
   "metadata": {},
   "outputs": [
    {
     "name": "stdout",
     "output_type": "stream",
     "text": [
      "[-0.500001  1.000001]\n",
      "[0.25 0.5 ]\n"
     ]
    }
   ],
   "source": [
    "C = np.array([[(1/2), (1/2)], [(10**-6), (1/2)]])\n",
    "D = np.array([1/4, 1/2])\n",
    "\n",
    "X2 = np.linalg.inv(C).dot(D)\n",
    "print(X2)\n",
    "print(C.dot(X2))"
   ]
  },
  {
   "cell_type": "code",
   "execution_count": 115,
   "metadata": {},
   "outputs": [
    {
     "name": "stdout",
     "output_type": "stream",
     "text": [
      "[[-0.5  0. ]\n",
      " [ 0.5  0.5]]\n",
      "[0.25 0.25]\n"
     ]
    }
   ],
   "source": [
    "E1 = np.array([[(10**-12), (1/2)],[(1/2), (1/2)]])\n",
    "E = np.array([[(10**-12), (1/2)],[(1/2), (1/2)]])\n",
    "F = np.array([1/2, 1/4])\n",
    "E[0] = E[0]-E[1]\n",
    "F[0] = F[0] - F[1]\n",
    "print(E)\n",
    "print(F)"
   ]
  },
  {
   "cell_type": "code",
   "execution_count": 116,
   "metadata": {},
   "outputs": [
    {
     "name": "stdout",
     "output_type": "stream",
     "text": [
      "250000.0\n",
      "-249999.5\n"
     ]
    }
   ],
   "source": [
    "x = F[0]/(A[0][0])\n",
    "y = (F[1] - x*0.5)/A[1][1]\n",
    "print(x)\n",
    "print(y)\n",
    "Solution = np.array([x, y])\n",
    "test = E1.dot(Solution)"
   ]
  },
  {
   "cell_type": "code",
   "execution_count": 117,
   "metadata": {},
   "outputs": [
    {
     "name": "stdout",
     "output_type": "stream",
     "text": [
      "[-1.2499975e+05  2.5000000e-01]\n"
     ]
    }
   ],
   "source": [
    "print(test)"
   ]
  },
  {
   "cell_type": "code",
   "execution_count": 118,
   "metadata": {},
   "outputs": [
    {
     "name": "stdout",
     "output_type": "stream",
     "text": [
      "[[4.99999e-01 0.00000e+00]\n",
      " [1.00000e-06 5.00000e-01]]\n",
      "[-0.25  0.5 ]\n"
     ]
    }
   ],
   "source": [
    "E1 = np.array([[(1/2), (1/2)], [(10**-6), (1/2)]])\n",
    "E = np.array([[(1/2), (1/2)], [(10**-6), (1/2)]])\n",
    "F = np.array([1/4, 1/2])\n",
    "E[0] = E[0]-E[1]\n",
    "F[0] = F[0] - F[1]\n",
    "print(E)\n",
    "print(F)"
   ]
  },
  {
   "cell_type": "code",
   "execution_count": 119,
   "metadata": {},
   "outputs": [
    {
     "name": "stdout",
     "output_type": "stream",
     "text": [
      "-250000.0\n",
      "250001.0\n"
     ]
    }
   ],
   "source": [
    "x = F[0]/(A[0][0])\n",
    "y = (F[1] - x*0.5)/A[1][1]\n",
    "print(x)\n",
    "print(y)\n",
    "Solution = np.array([x, y])\n",
    "test = E1.dot(Solution)"
   ]
  },
  {
   "cell_type": "code",
   "execution_count": 16,
   "metadata": {},
   "outputs": [
    {
     "name": "stdout",
     "output_type": "stream",
     "text": [
      "[[-0.499999999999, 0.0], [0.5, 0.5]]\n",
      "[0.25, 0.25]\n",
      "-0.500000000001\n",
      "1.000000000001\n"
     ]
    }
   ],
   "source": [
    "E2 = [[(10**-12), (1/2)],[(1/2), (1/2)]]\n",
    "E3 = [[(10**-12), (1/2)],[(1/2), (1/2)]]\n",
    "F1 = [1/2, 1/4]\n",
    "E2[0][0] = E2[0][0]-E2[1][0]\n",
    "E2[0][1] = E2[0][1]-E2[1][1]\n",
    "F1[0] = F1[0] - F1[1]\n",
    "print(E2)\n",
    "print(F1)\n",
    "X = F1[0]/E2[0][0]\n",
    "Y = (F1[0]-X*E2[1][0])/E2[1][1]\n",
    "print(X)\n",
    "print(Y)"
   ]
  },
  {
   "cell_type": "code",
   "execution_count": 17,
   "metadata": {},
   "outputs": [
    {
     "name": "stdout",
     "output_type": "stream",
     "text": [
      "[[0.499999, 0.0], [1e-06, 0.5]]\n",
      "[-0.25, 0.5]\n",
      "-0.500001000002\n",
      "-0.499998999998\n"
     ]
    }
   ],
   "source": [
    "E2 = [[(1/2), (1/2)], [(10**-6), (1/2)]]\n",
    "E3 = [[(1/2), (1/2)], [(10**-6), (1/2)]]\n",
    "F1 = [1/4, 1/2]\n",
    "E2[0][0] = E2[0][0]-E2[1][0]\n",
    "E2[0][1] = E2[0][1]-E2[1][1]\n",
    "F1[0] = F1[0] - F1[1]\n",
    "print(E2)\n",
    "print(F1)\n",
    "X = F1[0]/E2[0][0]\n",
    "Y = (F1[0]-X*E2[1][0])/E2[1][1]\n",
    "print(X)\n",
    "print(Y)"
   ]
  },
  {
   "cell_type": "code",
   "execution_count": null,
   "metadata": {},
   "outputs": [],
   "source": []
  },
  {
   "cell_type": "code",
   "execution_count": null,
   "metadata": {},
   "outputs": [],
   "source": []
  },
  {
   "cell_type": "code",
   "execution_count": null,
   "metadata": {},
   "outputs": [],
   "source": []
  },
  {
   "cell_type": "code",
   "execution_count": null,
   "metadata": {},
   "outputs": [],
   "source": []
  },
  {
   "cell_type": "code",
   "execution_count": null,
   "metadata": {},
   "outputs": [],
   "source": []
  }
 ],
 "metadata": {
  "kernelspec": {
   "display_name": "Python 3",
   "language": "python",
   "name": "python3"
  },
  "language_info": {
   "codemirror_mode": {
    "name": "ipython",
    "version": 3
   },
   "file_extension": ".py",
   "mimetype": "text/x-python",
   "name": "python",
   "nbconvert_exporter": "python",
   "pygments_lexer": "ipython3",
   "version": "3.7.4"
  },
  "latex_envs": {
   "LaTeX_envs_menu_present": true,
   "autoclose": false,
   "autocomplete": true,
   "bibliofile": "biblio.bib",
   "cite_by": "apalike",
   "current_citInitial": 1,
   "eqLabelWithNumbers": true,
   "eqNumInitial": 1,
   "hotkeys": {
    "equation": "Ctrl-E",
    "itemize": "Ctrl-I"
   },
   "labels_anchors": false,
   "latex_user_defs": false,
   "report_style_numbering": false,
   "user_envs_cfg": false
  }
 },
 "nbformat": 4,
 "nbformat_minor": 4
}
