{
 "cells": [
  {
   "cell_type": "code",
   "execution_count": 2,
   "metadata": {},
   "outputs": [],
   "source": [
    "import numpy as np"
   ]
  },
  {
   "cell_type": "code",
   "execution_count": 19,
   "metadata": {},
   "outputs": [],
   "source": [
    "A = np.array([[-1, 0, 0, -20, -30, -5],\n",
    "              [0, -1, 0, -1, -3, -7],\n",
    "              [0, 0, -1, -4, -10, -20],\n",
    "              [20, 30, 35, 0, 0, 0],\n",
    "              [3 ,3 ,3, 0, 0, 0],\n",
    "              [7, 8, 20, 0, 0, 0]])"
   ]
  },
  {
   "cell_type": "code",
   "execution_count": 20,
   "metadata": {},
   "outputs": [
    {
     "name": "stdout",
     "output_type": "stream",
     "text": [
      "[[ -1   0   0 -20 -30  -5]\n",
      " [  0  -1   0  -1  -3  -7]\n",
      " [  0   0  -1  -4 -10 -20]\n",
      " [ 20  30  35   0   0   0]\n",
      " [  3   3   3   0   0   0]\n",
      " [  7   8  20   0   0   0]]\n"
     ]
    }
   ],
   "source": [
    "print(A)"
   ]
  },
  {
   "cell_type": "code",
   "execution_count": 21,
   "metadata": {},
   "outputs": [],
   "source": [
    "ev,vecs = np.linalg.eig(A)"
   ]
  },
  {
   "cell_type": "code",
   "execution_count": 22,
   "metadata": {},
   "outputs": [
    {
     "data": {
      "text/plain": [
       "(array([-0.5       +33.62558388j, -0.5       -33.62558388j,\n",
       "        -0.5        +7.67949446j, -0.5        -7.67949446j,\n",
       "        -1.13602378 +0.j        ,  0.13602378 +0.j        ]),\n",
       " array([[-0.00808048+5.43421815e-01j, -0.00808048-5.43421815e-01j,\n",
       "         -0.86913661+0.00000000e+00j, -0.86913661-0.00000000e+00j,\n",
       "         -0.53762066+0.00000000e+00j,  0.08149945+0.00000000e+00j],\n",
       "        [-0.00138394+9.30713447e-02j, -0.00138394-9.30713447e-02j,\n",
       "          0.13809399-1.49619900e-16j,  0.13809399+1.49619900e-16j,\n",
       "          0.29472269+0.00000000e+00j, -0.04467786+0.00000000e+00j],\n",
       "        [-0.00436622+2.93633078e-01j, -0.00436622-2.93633078e-01j,\n",
       "          0.34158855+2.77555756e-17j,  0.34158855-2.77555756e-17j,\n",
       "          0.07549029+0.00000000e+00j, -0.01144379+0.00000000e+00j],\n",
       "        [ 0.71189052+0.00000000e+00j,  0.71189052-0.00000000e+00j,\n",
       "          0.01084273+1.66533346e-01j,  0.01084273-1.66533346e-01j,\n",
       "         -0.64384894+0.00000000e+00j, -0.81514582+0.00000000e+00j],\n",
       "        [ 0.0829838 +1.30104261e-17j,  0.0829838 -1.30104261e-17j,\n",
       "          0.00986382+1.51498294e-01j,  0.00986382-1.51498294e-01j,\n",
       "          0.44208849+0.00000000e+00j,  0.55970673+0.00000000e+00j],\n",
       "        [ 0.30991834+1.90819582e-17j,  0.30991834-1.90819582e-17j,\n",
       "         -0.01564017-2.40217184e-01j, -0.01564017+2.40217184e-01j,\n",
       "         -0.09176103+0.00000000e+00j, -0.11617418+0.00000000e+00j]]))"
      ]
     },
     "execution_count": 22,
     "metadata": {},
     "output_type": "execute_result"
    }
   ],
   "source": [
    "ev, vecs"
   ]
  },
  {
   "cell_type": "code",
   "execution_count": 42,
   "metadata": {},
   "outputs": [
    {
     "data": {
      "text/plain": [
       "6"
      ]
     },
     "execution_count": 42,
     "metadata": {},
     "output_type": "execute_result"
    }
   ],
   "source": [
    "len(vecs)"
   ]
  },
  {
   "cell_type": "code",
   "execution_count": 52,
   "metadata": {},
   "outputs": [
    {
     "name": "stdout",
     "output_type": "stream",
     "text": [
      "[ 1.12504188+2.20311256j  1.12504188-2.20311256j -1.7929415 +0.9000031j\n",
      " -1.7929415 -0.9000031j   0.90421379+0.j          2.07079142+0.j        ]\n"
     ]
    }
   ],
   "source": [
    "ev,vecs = np.linalg.eig(A)\n",
    "n = 3*vecs[0]+3*vecs[1]+vecs[2]+vecs[3]+5*vecs[4]+0.1*vecs[5]\n",
    "print(n)"
   ]
  },
  {
   "cell_type": "code",
   "execution_count": null,
   "metadata": {},
   "outputs": [],
   "source": [
    "\n",
    "    "
   ]
  },
  {
   "cell_type": "code",
   "execution_count": null,
   "metadata": {},
   "outputs": [],
   "source": []
  }
 ],
 "metadata": {
  "kernelspec": {
   "display_name": "Python 3",
   "language": "python",
   "name": "python3"
  },
  "language_info": {
   "codemirror_mode": {
    "name": "ipython",
    "version": 3
   },
   "file_extension": ".py",
   "mimetype": "text/x-python",
   "name": "python",
   "nbconvert_exporter": "python",
   "pygments_lexer": "ipython3",
   "version": "3.7.4"
  },
  "latex_envs": {
   "LaTeX_envs_menu_present": true,
   "autoclose": false,
   "autocomplete": true,
   "bibliofile": "biblio.bib",
   "cite_by": "apalike",
   "current_citInitial": 1,
   "eqLabelWithNumbers": true,
   "eqNumInitial": 1,
   "hotkeys": {
    "equation": "Ctrl-E",
    "itemize": "Ctrl-I"
   },
   "labels_anchors": false,
   "latex_user_defs": false,
   "report_style_numbering": false,
   "user_envs_cfg": false
  }
 },
 "nbformat": 4,
 "nbformat_minor": 4
}
