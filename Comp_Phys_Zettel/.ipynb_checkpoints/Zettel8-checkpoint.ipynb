{
 "cells": [
  {
   "cell_type": "markdown",
   "metadata": {},
   "source": [
    "## Homework 8- Stability analysis\n",
    "\n",
    "### 1. Finding the fixed points\n",
    "\n",
    "To find the fixed points of the differential equation, one has to find the points for which the differential equations given in the excercise equal zero.\n",
    "\n",
    "\n",
    "\n",
    "The first trivial solution of those equation is $N_i = P_i=0 , i \\in \\{1,2,3\\}$.\n",
    "\n",
    "\n",
    "Another solution  can be found by looking at the Velhurst growth limiting factors in the equations for  $N_i, i \\in \\{1,2,3\\}$. When $P_i=0$, the fixed point condition is trivialy true for $\\frac{dP_i}{dt}$\n",
    "plugging this into the first three equations results in the following set of equations for $N_i$:\n",
    "\n",
    "$$\\frac{dN_i}{dt}=a_i-N_i=0, i \\in \\{1,2,3\\}$$\n",
    " \n",
    "So in total this results in the fixed point:\n",
    "$$N_1=56\\\\N_2=12,\\\\N_3=35\\\\P_1=P_2=P_3=0$$\n",
    "\n",
    "We are looking for a completely non-trivial fixed point though. Because of how the parameters of the equation are defined,\n",
    "$N_i=P_i=1 , i \\in \\{1,2,3\\}$ is another fixed point, and a non-trivial solution. \n",
    "\n",
    "Those are all three fixed point as specified on the homework sheet.\n",
    "\n"
   ]
  },
  {
   "cell_type": "code",
   "execution_count": null,
   "metadata": {},
   "outputs": [],
   "source": [
    "import numpy as np\n",
    "from scipy import linalg\n",
    "import scipy.linalg\n",
    "import matplotlib.pyplot as plt"
   ]
  }
 ],
 "metadata": {
  "kernelspec": {
   "display_name": "Python 3",
   "language": "python",
   "name": "python3"
  },
  "language_info": {
   "codemirror_mode": {
    "name": "ipython",
    "version": 3
   },
   "file_extension": ".py",
   "mimetype": "text/x-python",
   "name": "python",
   "nbconvert_exporter": "python",
   "pygments_lexer": "ipython3",
   "version": "3.7.6"
  }
 },
 "nbformat": 4,
 "nbformat_minor": 2
}
