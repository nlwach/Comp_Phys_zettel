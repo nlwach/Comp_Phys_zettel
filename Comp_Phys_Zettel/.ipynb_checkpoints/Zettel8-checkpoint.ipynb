{
 "cells": [
  {
   "cell_type": "markdown",
   "metadata": {},
   "source": [
    "## Homework 8- Stability analysis\n",
    "\n",
    "### 1. Finding the fixed points\n",
    "\n",
    "To find the fixed points of the differential equation, one has to find the points for which the differential equations given in the excercise equal zero.\n",
    "\n",
    "\n",
    "\n",
    "The first trivial solution of those equation is $N_i = P_i=0 , i \\in \\{1,2,3\\}$.\n",
    "\n",
    "\n",
    "Another solution  can be found by looking at the Velhurst growth limiting factors in the equations for  $N_i, i \\in \\{1,2,3\\}$. When $P_i=0$, the fixed point condition is trivialy true for $\\frac{dP_i}{dt}$\n",
    "plugging this into the first three equations results in the following set of equations for $N_i$:\n",
    "\n",
    "$$\\frac{dN_i}{dt}=a_i-N_i=0, i \\in \\{1,2,3\\}$$\n",
    " \n",
    "So in total this results in the fixed point:\n",
    "$$N_1=56\\\\N_2=12,\\\\N_3=35\\\\P_1=P_2=P_3=0$$\n",
    "\n",
    "We are looking for a completely non-trivial fixed point though. Because of how the parameters of the equation are defined,\n",
    "$N_i=P_i=1 , i \\in \\{1,2,3\\}$ is another fixed point, and a non-trivial solution. \n",
    "\n",
    "Those are all three fixed point as specified on the homework sheet.\n",
    "\n"
   ]
  },
  {
   "cell_type": "code",
   "execution_count": 2,
   "metadata": {},
   "outputs": [],
   "source": [
    "import numpy as np\n",
    "from scipy import linalg\n",
    "import scipy.linalg\n",
    "import matplotlib.pyplot as plt"
   ]
  },
  {
   "cell_type": "code",
   "execution_count": 3,
   "metadata": {},
   "outputs": [],
   "source": [
    "A = np.array([[-1, 0, 0, -20, -30, -5],\n",
    "              [0, -1, 0, -1, -3, -7],\n",
    "              [0, 0, -1, -4, -10, -20],\n",
    "              [20, 30, 35, 0, 0, 0],\n",
    "              [3 ,3 ,3, 0, 0, 0],\n",
    "              [7, 8, 20, 0, 0, 0]])"
   ]
  },
  {
   "cell_type": "code",
   "execution_count": 4,
   "metadata": {},
   "outputs": [],
   "source": [
    "ev,vecs = linalg.eig(A)"
   ]
  },
  {
   "cell_type": "code",
   "execution_count": 7,
   "metadata": {},
   "outputs": [
    {
     "data": {
      "text/plain": [
       "6"
      ]
     },
     "execution_count": 7,
     "metadata": {},
     "output_type": "execute_result"
    }
   ],
   "source": [
    "c = np.array([])"
   ]
  },
  {
   "cell_type": "code",
   "execution_count": null,
   "metadata": {},
   "outputs": [],
   "source": []
  }
 ],
 "metadata": {
  "kernelspec": {
   "display_name": "Python 3",
   "language": "python",
   "name": "python3"
  },
  "language_info": {
   "codemirror_mode": {
    "name": "ipython",
    "version": 3
   },
   "file_extension": ".py",
   "mimetype": "text/x-python",
   "name": "python",
   "nbconvert_exporter": "python",
   "pygments_lexer": "ipython3",
   "version": "3.7.4"
  },
  "latex_envs": {
   "LaTeX_envs_menu_present": true,
   "autoclose": false,
   "autocomplete": true,
   "bibliofile": "biblio.bib",
   "cite_by": "apalike",
   "current_citInitial": 1,
   "eqLabelWithNumbers": true,
   "eqNumInitial": 1,
   "hotkeys": {
    "equation": "Ctrl-E",
    "itemize": "Ctrl-I"
   },
   "labels_anchors": false,
   "latex_user_defs": false,
   "report_style_numbering": false,
   "user_envs_cfg": false
  }
 },
 "nbformat": 4,
 "nbformat_minor": 2
}
