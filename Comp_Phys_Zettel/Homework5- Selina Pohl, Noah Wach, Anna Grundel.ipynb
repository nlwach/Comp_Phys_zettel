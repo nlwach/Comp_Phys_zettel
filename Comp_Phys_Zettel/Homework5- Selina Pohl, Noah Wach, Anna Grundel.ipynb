{
 "cells": [
  {
   "cell_type": "markdown",
   "metadata": {},
   "source": [
    "## Exercise 5\n",
    "In this exercise are we going to apply basic numerical linear algebra methods.  \n",
    "More specifically, we are going to solve a linear system of equations with a tridiagonal NxN matrix.\n",
    "\n",
    "#### 1. Gaussian elimination\n",
    "At first we implement a method to use the Gaussian elimination on a matrix. This is important since it gives us a triangular matrix in row-echelon form.  \n",
    "\n",
    "If we have a problem of the form Ax=b with A as a matrix, x and b vectors and we're looking for x, we have to apply the same steps of calculation on b as we do on A.  \n",
    "To do this more efficiently we trianglify a new matrix, which is simply the original matrix A with the vector b added as a new column."
   ]
  },
  {
   "cell_type": "code",
   "execution_count": 1,
   "metadata": {},
   "outputs": [],
   "source": [
    "import numpy as np"
   ]
  },
  {
   "cell_type": "code",
   "execution_count": 2,
   "metadata": {},
   "outputs": [],
   "source": [
    "#subroutine using the gauss algorithm to create a triagonal matrix from an entered Matrix A\n",
    "def trianglify(A):\n",
    "    \n",
    "    N=len(A)\n",
    "    Amat=A.astype(\"float\")#makes sure there is no unnecessary rounding  \n",
    "    i=0\n",
    "    j=0\n",
    "    #iterates through rows of Matrix\n",
    "    while i < N:\n",
    "        #Step 1: puts one at diagonal spot in matrix\n",
    "        Amat[i]=Amat[i]*(1/Amat[i][i]) \n",
    "        #Step 2: subtract multiple of this row from all rows below to create zeros\n",
    "        j=i\n",
    "        while j < N:\n",
    "            if i==j:\n",
    "                j=j+1\n",
    "            else:\n",
    "                Amat[j]=Amat[j]-Amat[j][i]*Amat[i]\n",
    "                j=j+1\n",
    "        i+=1\n",
    "        j=0 \n",
    "    return Amat#returns triagonal matrix\n",
    "\n",
    "\n"
   ]
  },
  {
   "cell_type": "markdown",
   "metadata": {},
   "source": [
    "#### 2. Backwards substitution\n",
    "The next step to solve a linear system of equation is the backwards substitution.  "
   ]
  },
  {
   "cell_type": "code",
   "execution_count": null,
   "metadata": {},
   "outputs": [],
   "source": [
    "#Function for backsubstituting in the gauss agorithm\n",
    "#assumes matrix Amat contains the solution of the set of equation in the rightest column\n",
    "def backsub(Amat):\n",
    "    N=len(Amat)-1\n",
    "    x=np.ones(N+1)#will contain the solved x-vector\n",
    "    nb=N+1#column index containing the solution vector b\n",
    "    \n",
    "    #starting with the lower right corner of the triangular matrix, starts back substitution of already found x's\n",
    "    i=N\n",
    "    j=N\n",
    "    while i>=0:\n",
    "        j=N\n",
    "        x[i]=Amat[i][nb]\n",
    "        while j>i:\n",
    "            x[i]=x[i]-Amat[i][j]*x[j]\n",
    "            j-=1       \n",
    "        i-=1\n",
    "        \n",
    "    return x\n"
   ]
  },
  {
   "cell_type": "markdown",
   "metadata": {},
   "source": [
    "#### 3. Tridiagonal matrix and solution\n",
    "After implementing the different steps to solve a linear system of equations we now want to put it together into one routine.  \n",
    "  \n",
    "We are looking at the special case of a NxN tridiagonal matrix.  \n",
    "Before we can solve the problem, we have to create the matrix, given the values of $\\vec{a}$, $\\vec{b}$, $\\vec{c}$ and $\\vec{y}$. \n",
    "\n",
    "Then we put all the implemented functions to use in a single solving function that creates a Matrix of the specified tridiagonal form, and solves it using the gauss algorithm for triangularisation and then the backsubstituion."
   ]
  },
  {
   "cell_type": "code",
   "execution_count": 3,
   "metadata": {
    "scrolled": true
   },
   "outputs": [],
   "source": [
    "#function creates a tridiagonal Matrix of the shape given in homework\n",
    "def create_tridiag(a,b,c):\n",
    "    N=len(b)\n",
    "    n=N-1\n",
    "    A=np.zeros((N,N))\n",
    "      \n",
    "    j=0\n",
    "    while j<=n:\n",
    "        A[j][j]=b[j]\n",
    "        if j==0:\n",
    "            A[j][j+1]=c[j+1]\n",
    "        if j ==n:\n",
    "            A[j][j-1]=a[n-1]\n",
    "        if (j<n)and (j>0 ):\n",
    "            A[j][j-1]=a[j-1]\n",
    "            A[j][j+1]=c[j-1]\n",
    "        j+=1\n",
    "    return A\n",
    "\n",
    "#given the arrays containing the parameters for the as bs and cs, function calls upon create_tridiag(),\n",
    "#trianglify() and backsub()to solve the set of linear equations \n",
    "def tridiag_solve(a,b,c,y):\n",
    "    A = create_tridiag(a,b,c)\n",
    "    N=len(b)\n",
    "    n=N-1\n",
    "    \n",
    "    x=np.zeros(len(b))#vector for solution x\n",
    "    \n",
    "    yarr=np.array([y])#asures proper shape of y vector\n",
    "\n",
    "    Ab=np.concatenate((A,yarr.T),axis=1)#join created Matrix with solution y vector\n",
    "    x=backsub(trianglify(Ab))#solve joined MAtrix\n",
    "    return A,Ab,x #tridiagonal matrix A, the result for the triangularmatrix Ab and the found solution x\n",
    "\n",
    "\n"
   ]
  },
  {
   "cell_type": "markdown",
   "metadata": {},
   "source": [
    "#### 4. Test the method\n",
    "In this case we set N to 10, all of the a and c values to -1, the b values to 3 and y,the solution values, to 0.2.  \n",
    "We will look if the method works and check the result later."
   ]
  },
  {
   "cell_type": "code",
   "execution_count": 7,
   "metadata": {},
   "outputs": [
    {
     "name": "stdout",
     "output_type": "stream",
     "text": [
      "tridiagonal Matrix with concatenated solution vector y (according to specs in homework)\n",
      "[[ 3.  -1.   0.   0.   0.   0.   0.   0.   0.   0.   0.2]\n",
      " [-1.   3.  -1.   0.   0.   0.   0.   0.   0.   0.   0.2]\n",
      " [ 0.  -1.   3.  -1.   0.   0.   0.   0.   0.   0.   0.2]\n",
      " [ 0.   0.  -1.   3.  -1.   0.   0.   0.   0.   0.   0.2]\n",
      " [ 0.   0.   0.  -1.   3.  -1.   0.   0.   0.   0.   0.2]\n",
      " [ 0.   0.   0.   0.  -1.   3.  -1.   0.   0.   0.   0.2]\n",
      " [ 0.   0.   0.   0.   0.  -1.   3.  -1.   0.   0.   0.2]\n",
      " [ 0.   0.   0.   0.   0.   0.  -1.   3.  -1.   0.   0.2]\n",
      " [ 0.   0.   0.   0.   0.   0.   0.  -1.   3.  -1.   0.2]\n",
      " [ 0.   0.   0.   0.   0.   0.   0.   0.  -1.   3.   0.2]]\n",
      "\n",
      " solved  x:\n",
      "[0.12359551 0.17078652 0.18876404 0.19550562 0.19775281 0.19775281\n",
      " 0.19550562 0.18876404 0.17078652 0.12359551]\n"
     ]
    }
   ],
   "source": [
    "#set parameters of tridiag. matrix as specified\n",
    "a=np.ones(9)*-1\n",
    "b=np.ones(10)*3\n",
    "c=np.ones(9)*-1\n",
    "\n",
    "y=np.ones(10)*0.2\n",
    "\n",
    "#calls upon functions to create the necessary matrixes and solve it.\n",
    "A,Ab,x=tridiag_solve(a,b,c,y)\n",
    "print(\"tridiagonal Matrix with concatenated solution vector y (according to specs in homework)\")\n",
    "print(Ab)\n",
    "print(\"\\n solved  x:\")\n",
    "print(x)"
   ]
  },
  {
   "cell_type": "markdown",
   "metadata": {},
   "source": [
    "Now to test if everything works, we simply multiply the tridiagonal matrix A from our equation A*x=y and substitute in our solution for x, to see if the result is the same as teh y we started out with."
   ]
  },
  {
   "cell_type": "code",
   "execution_count": 8,
   "metadata": {},
   "outputs": [
    {
     "name": "stdout",
     "output_type": "stream",
     "text": [
      "our result for y using tridiagonal A as specified and our solution x:\n",
      "[[0.2]\n",
      " [0.2]\n",
      " [0.2]\n",
      " [0.2]\n",
      " [0.2]\n",
      " [0.2]\n",
      " [0.2]\n",
      " [0.2]\n",
      " [0.2]\n",
      " [0.2]]\n"
     ]
    }
   ],
   "source": [
    "#test if functions work, by multiplying found x with the created Tridiagonal Matrix A \n",
    "Am=np.matrix(A)\n",
    "xm=np.matrix(x).T\n",
    "ytest=Am*xm\n",
    "print(\"our result for y using tridiagonal A as specified and our solution x:\")\n",
    "print(ytest)\n",
    " "
   ]
  },
  {
   "cell_type": "markdown",
   "metadata": {},
   "source": [
    "As one can see clearly, the result matches y perfectly A*x=y !\n",
    "\n",
    "Seems like our functions work properly."
   ]
  }
 ],
 "metadata": {
  "kernelspec": {
   "display_name": "Python 3",
   "language": "python",
   "name": "python3"
  },
  "language_info": {
   "codemirror_mode": {
    "name": "ipython",
    "version": 3
   },
   "file_extension": ".py",
   "mimetype": "text/x-python",
   "name": "python",
   "nbconvert_exporter": "python",
   "pygments_lexer": "ipython3",
   "version": "3.7.6"
  }
 },
 "nbformat": 4,
 "nbformat_minor": 2
}
