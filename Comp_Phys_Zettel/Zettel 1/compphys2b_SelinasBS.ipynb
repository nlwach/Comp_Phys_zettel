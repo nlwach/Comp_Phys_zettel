{
 "cells": [
  {
   "cell_type": "code",
   "execution_count": 42,
   "metadata": {},
   "outputs": [
    {
     "name": "stdout",
     "output_type": "stream",
     "text": [
      "-1.0\n"
     ]
    }
   ],
   "source": [
    "import matplotlib.pyplot as plt\n",
    "import matplotlib.scale as scale\n",
    "import numpy as np\n",
    "\n",
    "def iteration(a,n0,n1,y0):\n",
    "    if(n0 == n1):\n",
    "        return y0\n",
    "    \n",
    "    if(n0<n1):\n",
    "        return 1/n1-a*iteration(a,n0,n1-1,y0)\n",
    "    \n",
    "    if(n0> n1):\n",
    "        return (1/(n1+1)-iteration(a,n0,n1+1,y0))/a\n",
    "a=1\n",
    "n0=0\n",
    "n1=1\n",
    "y0=2.0\n",
    "\n",
    "print(iteration(a,n0,n1,y0))\n",
    "\n",
    "\n",
    "    \n",
    "        \n",
    "\n",
    "\n",
    "\n",
    "         "
   ]
  },
  {
   "cell_type": "code",
   "execution_count": null,
   "outputs": [],
   "source": [
    "\n"
   ],
   "metadata": {
    "collapsed": false,
    "pycharm": {
     "name": "#%%\n"
    }
   }
  }
 ],
 "metadata": {
  "kernelspec": {
   "display_name": "Python 3",
   "language": "python",
   "name": "python3"
  },
  "language_info": {
   "codemirror_mode": {
    "name": "ipython",
    "version": 3
   },
   "file_extension": ".py",
   "mimetype": "text/x-python",
   "name": "python",
   "nbconvert_exporter": "python",
   "pygments_lexer": "ipython3",
   "version": "3.7.4"
  },
  "pycharm": {
   "stem_cell": {
    "cell_type": "raw",
    "source": [],
    "metadata": {
     "collapsed": false
    }
   }
  }
 },
 "nbformat": 4,
 "nbformat_minor": 2
}