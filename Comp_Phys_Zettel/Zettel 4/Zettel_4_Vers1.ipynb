{
 "cells": [
  {
   "cell_type": "markdown",
   "metadata": {},
   "source": [
    "### Homeworksheet 4 "
   ]
  },
  {
   "cell_type": "code",
   "execution_count": 2,
   "metadata": {},
   "outputs": [],
   "source": [
    "import numpy as np\n",
    "import matplotlib.pyplot as plt\n",
    "from math import factorial"
   ]
  },
  {
   "cell_type": "markdown",
   "metadata": {},
   "source": [
    "In these excercises the Numerov algorithm is used to calculate the stationary states of neutrons in the gravitational field of the Earth.\n",
    "\n",
    "The gravitational potential can be expressed as \\begin{equation*}\n",
    "V(z) = mgz\n",
    "\\end{equation*}\n",
    "\n",
    "we place a perfectly reflecting mirror at $z=0$, so  we only seek solutions for $z \\geq \\ 0$.\n",
    "\n",
    "We now need to properly choose length and energy units to \n",
    "\n",
    "$$x(z)=\\frac{2m^2gz}{\\hbar^2}\\\\ \\epsilon=\\frac{2mE}{\\hbar^2}$$ \n",
    "\n",
    "so the Schrödinger equation with the gravitational Potential\n",
    "\n",
    "$$\\psi''(z)+\\frac{2m}{\\hbar^2}(E-V(z))\\psi(z)=0$$\n",
    "\n",
    "can be written in the Louisville form  \n",
    "\n",
    "\\begin{equation*}\n",
    "\\psi''(x) + (\\epsilon - x) \\psi(x) = 0\n",
    "\\end{equation*}\n",
    "\n",
    "An equation of this shape can be solved using the nuverov algorithm, as discussed in the lecture."
   ]
  },
  {
   "cell_type": "markdown",
   "metadata": {},
   "source": [
    "In the following cell, the Numerov algorithm is implemented.  \n",
    "The function $kb$ is defined so one can easily adapt the numerov algorithm to different potentials.  \n",
    "(The function numerov could be hard-coded to one specific problem, but in this way it is more flexible, e.g. the problem of the tutorial could be implemented without much efford)"
   ]
  },
  {
   "cell_type": "code",
   "execution_count": 3,
   "metadata": {},
   "outputs": [],
   "source": [
    "#Calculates each step using numerov method\n",
    "def numerov_step(psi_minus_1, psi, k_minus_1, k, k_plus_1, h):\n",
    "    h2 = h ** 2\n",
    "    a = 2 * (1 - (5 / 12) * (h2) * k) * psi\n",
    "    b = (1 + (1 / 12) * (h2) * k_minus_1) * psi_minus_1\n",
    "    c = (1 + (1 / 12) * (h2) * k_plus_1)\n",
    "    return (a - b) / c\n",
    "\n",
    "def kb(epsilon, x):\n",
    "    return epsilon-x\n",
    "\n",
    "def numerov(a, h, xmax, epsilon):\n",
    "    #initiate starting values\n",
    "    x0 = 0\n",
    "    x_out = [x0]\n",
    "    psi0 = 0\n",
    "    psi1 = a \n",
    "    psi_out = [psi0, psi1]\n",
    "    x0 += h\n",
    "    x_out.append(x0)\n",
    "    #iterate over intervall\n",
    "    while x0 <= xmax:\n",
    "        x0 += h\n",
    "        #calculate using numerov method\n",
    "        psin = numerov_step(psi_out[-2], psi_out[-1], kb(epsilon, (x_out[-2])), kb(epsilon, (x_out[-1])), kb(epsilon, (x0)), h)\n",
    "        #Needed for plotting\n",
    "        psi_out.append(psin)\n",
    "        x_out.append(x0)\n",
    "    #convert into arrays\n",
    "    x_out = np.array(x_out)\n",
    "    psi_out = np.array(psi_out)\n",
    "    return x_out, psi_out\n",
    "\n"
   ]
  },
  {
   "cell_type": "markdown",
   "metadata": {},
   "source": [
    "#### Part 1: The behaviour of the obtained solution for large x\n",
    "\n",
    "In the first part, the differential equation is solved and plotted for two different $\\epsilon$, to show the different behaviour of the solution for x approaching infinity.  \n",
    "The asymptotic behaviour of the solution towards positive or negative infinity is of interest."
   ]
  },
  {
   "cell_type": "code",
   "execution_count": 4,
   "metadata": {},
   "outputs": [
    {
     "data": {
      "text/plain": [
       "[<matplotlib.lines.Line2D at 0x10cf6bfd0>]"
      ]
     },
     "execution_count": 4,
     "metadata": {},
     "output_type": "execute_result"
    },
    {
     "data": {
      "image/png": "[encoded data removed]",
      "text/plain": [
       "<Figure size 432x288 with 1 Axes>"
      ]
     },
     "metadata": {
      "needs_background": "light"
     },
     "output_type": "display_data"
    }
   ],
   "source": [
    "#plot for eps = 0.1\n",
    "eps=0.1\n",
    "x_out, psi = numerov(1, 0.001, 10,eps)\n",
    "plt.title(\"Solution for $\\epsilon$ = %.1f\" %(eps))\n",
    "plt.plot(x_out, psi)"
   ]
  },
  {
   "cell_type": "code",
   "execution_count": 5,
   "metadata": {},
   "outputs": [
    {
     "data": {
      "text/plain": [
       "[<matplotlib.lines.Line2D at 0x10f02b5d0>]"
      ]
     },
     "execution_count": 5,
     "metadata": {},
     "output_type": "execute_result"
    },
    {
     "data": {
      "image/png": "[encoded data removed]",
      "text/plain": [
       "<Figure size 432x288 with 1 Axes>"
      ]
     },
     "metadata": {
      "needs_background": "light"
     },
     "output_type": "display_data"
    }
   ],
   "source": [
    "#plot for eps = 2.5\n",
    "eps=2.5\n",
    "x_out, psi = numerov(1, 0.001, 10, eps)\n",
    "\n",
    "plt.title(\"Solution for $\\epsilon$ = %.1f\" %(eps))\n",
    "plt.plot(x_out, psi)\n"
   ]
  },
  {
   "cell_type": "markdown",
   "metadata": {},
   "source": [
    "As one can see, $\\epsilon$ = 0.1 leads to positive asymptopic behaviour, while $\\epsilon$ =2.5 leads to negative asymptopic behaviour.  \n",
    "This means that neither one of the values for $\\epsilon$ is describing our physical wave function.  \n",
    "(For $\\psi$ being a physically possible and reasonable wave function it needs to converge to 0 for $ x \\rightarrow \\infty$.)  \n",
    "But these values of $\\epsilon$ and this change in asymptopic behaviour shows that inbetween these values should be an Eigenvalue and therefore a possible solution."
   ]
  },
  {
   "cell_type": "markdown",
   "metadata": {},
   "source": [
    "### Part 2: Calculating the Eigenvalues of the equation\n",
    "\n",
    "In this part of the excercise, the Eigenvalues of the first three bound states were calculated to two decimals behind the comma, using the properties of the Eigenfunction.  \n",
    "This can be done by changing $\\epsilon_{n}$ from smaller to larger values. $\\psi (x)$ does change its sign for $x \\rightarrow \\infty$."
   ]
  },
  {
   "cell_type": "code",
   "execution_count": 6,
   "metadata": {},
   "outputs": [],
   "source": [
    "def find_eigenvalues(steps, stepsize):\n",
    "    #Stores possible solutions\n",
    "    poss_sol = []\n",
    "    #Stores last value of each calculation\n",
    "    list_last = []\n",
    "    #calculate for different epsilons\n",
    "    for i in range(steps):\n",
    "        x, y = numerov(1, 0.001, 10, i*stepsize)\n",
    "        list_last.append(y[-1])\n",
    "    #turn into np.array\n",
    "    list_last = np.array(list_last)\n",
    "    #Iterate over every list item\n",
    "    for n, y in enumerate(list_last):\n",
    "        #Dont check 1st item, error would be thrown\n",
    "        if n == 0:\n",
    "            pass\n",
    "        #if the last value of the array switches its value from plus to minus,\n",
    "        # we know one of the values for epsilon must be an eigenvalue \n",
    "        elif list_last[n-1] > 0 and list_last[n] < 0:\n",
    "            #checks which value is closer to zero and appends the one to the solutions list\n",
    "            if abs(list_last[n-1]) < abs(list_last[n]):\n",
    "                poss_sol.append((n-1)*stepsize)\n",
    "            else:\n",
    "                poss_sol.append(n*stepsize)\n",
    "        #vice versa for switch form minus to plus\n",
    "        elif list_last[n-1] < 0 and list_last[n] > 0:\n",
    "            #same as above\n",
    "            if abs(list_last[n-1]) < abs(list_last[n]):\n",
    "                poss_sol.append((n-1)*stepsize)\n",
    "            else:\n",
    "                poss_sol.append(n*stepsize)\n",
    "        #break after 3 solutions are found\n",
    "        if len(poss_sol) == 3:\n",
    "            break\n",
    "        \n",
    "    return poss_sol\n"
   ]
  },
  {
   "cell_type": "markdown",
   "metadata": {},
   "source": [
    "The function to calculate possible eigenvalues in a given range is now used to find the first three values beween 1000 and 1."
   ]
  },
  {
   "cell_type": "code",
   "execution_count": 7,
   "metadata": {},
   "outputs": [
    {
     "name": "stdout",
     "output_type": "stream",
     "text": [
      "Eigenvalue 1 = 2.34\n",
      "Eigenvalue 2 = 4.09\n",
      "Eigenvalue 3 = 5.52\n"
     ]
    }
   ],
   "source": [
    "poss_sol = find_eigenvalues(1000, 0.01)\n",
    "for n, solution in enumerate(poss_sol):\n",
    "    print(f\"Eigenvalue {n+1} = {solution:.2f}\")"
   ]
  },
  {
   "cell_type": "markdown",
   "metadata": {},
   "source": [
    "Compared to the values of $\\epsilon$ from above, one would expect an Eigenvalue in the range of 0.1 to 2.5.  \n",
    "Looking at Eigenvalue 1 we get the expected result."
   ]
  },
  {
   "cell_type": "code",
   "execution_count": 11,
   "metadata": {},
   "outputs": [],
   "source": [
    "#Calculate all values\n",
    "x_out_0, psi_0 = numerov(1, 0.1, 8, poss_sol[0])\n",
    "x_out_1, psi_1 = numerov(1, 0.01, 8, poss_sol[1])\n",
    "x_out_2, psi_2 = numerov(1, 0.01, 8, poss_sol[2])\n",
    "\n",
    "\n",
    "#The following is needed to cut off the plot, so it looks nice\n",
    "for n, y in enumerate(psi_0):\n",
    "    #Looks, when psi == 0, then cuts off the array\n",
    "    if y < 0 and n>5:\n",
    "        psi_0 = psi_0[:n]\n",
    "        x_out_0 = x_out_0[:n]\n",
    "        break\n",
    "\n",
    "for m, psi_n in enumerate(psi_1):\n",
    "    #Looks, when psi_1 is greater than 0 and psi_0 is smaller than 0\n",
    "    #then cuts off the array\n",
    "    if psi_n > 0 and psi_1[m-1] < 0:\n",
    "        psi_1 = psi_1[:m]\n",
    "        x_out_1 = x_out_1[:m]\n",
    "        break\n",
    "\n",
    "\n",
    "for n, y in enumerate(psi_2):\n",
    "    counter = 0\n",
    "    if y > 0 and n<1:\n",
    "        #Looks, when psi == 0, for the third time, then cuts off the array\n",
    "        if counter == 2:\n",
    "            psi_2 = psi_2[:n]\n",
    "            x_out_2 = x_out_2[:n]\n",
    "            break\n",
    "        counter +=1\n",
    "\n",
    "solutions_psi = [psi_0, psi_1, psi_2]\n",
    "solutions_x = [x_out_0, x_out_1, x_out_2]"
   ]
  },
  {
   "cell_type": "code",
   "execution_count": 20,
   "metadata": {},
   "outputs": [
    {
     "data": {
      "image/png": "[encoded data removed]",
      "text/plain": [
       "<Figure size 720x504 with 1 Axes>"
      ]
     },
     "metadata": {
      "needs_background": "light"
     },
     "output_type": "display_data"
    },
    {
     "data": {
      "image/png": "[encoded data removed]",
      "text/plain": [
       "<Figure size 720x504 with 1 Axes>"
      ]
     },
     "metadata": {
      "needs_background": "light"
     },
     "output_type": "display_data"
    },
    {
     "data": {
      "image/png": "[encoded data removed]",
      "text/plain": [
       "<Figure size 720x504 with 1 Axes>"
      ]
     },
     "metadata": {
      "needs_background": "light"
     },
     "output_type": "display_data"
    }
   ],
   "source": [
    "for n, solution in enumerate(solutions_psi):\n",
    "    fig = plt.figure(figsize=(10,7))\n",
    "    ax=plt.subplot(2,2,n+1)\n",
    "    ax.plot(solutions_x[n], solution)\n",
    "    ax.set_title(\"Wave function for $\\epsilon_{}={:.2f}$\".format(n,eps))\n",
    "    ax.set_xlabel(\"z\")\n",
    "    ax.set_ylabel(\"$\\psi(z)$\")"
   ]
  },
  {
   "cell_type": "markdown",
   "metadata": {},
   "source": [
    "One can see that the Eigenfunction gets more local extrema for increasing n. This is what one would expect for particles in a potential.  \n",
    "Although it can be seen (especially for Eigenvalue 1) that the function is not converging towards 0 for $ x \\rightarrow \\infty$. This shows some relevant errors for the behaviour of our wave function regarding to large x."
   ]
  },
  {
   "cell_type": "code",
   "execution_count": null,
   "metadata": {},
   "outputs": [],
   "source": []
  }
 ],
 "metadata": {
  "kernelspec": {
   "display_name": "Python 3",
   "language": "python",
   "name": "python3"
  },
  "language_info": {
   "codemirror_mode": {
    "name": "ipython",
    "version": 3
   },
   "file_extension": ".py",
   "mimetype": "text/x-python",
   "name": "python",
   "nbconvert_exporter": "python",
   "pygments_lexer": "ipython3",
   "version": "3.7.4"
  },
  "latex_envs": {
   "LaTeX_envs_menu_present": true,
   "autoclose": false,
   "autocomplete": true,
   "bibliofile": "biblio.bib",
   "cite_by": "apalike",
   "current_citInitial": 1,
   "eqLabelWithNumbers": true,
   "eqNumInitial": 1,
   "hotkeys": {
    "equation": "Ctrl-E",
    "itemize": "Ctrl-I"
   },
   "labels_anchors": false,
   "latex_user_defs": false,
   "report_style_numbering": false,
   "user_envs_cfg": false
  }
 },
 "nbformat": 4,
 "nbformat_minor": 2
}
