{
 "cells": [
  {
   "cell_type": "markdown",
   "metadata": {},
   "source": [
    "### Homeworksheet 4 "
   ]
  },
  {
   "cell_type": "code",
   "execution_count": 29,
   "metadata": {},
   "outputs": [],
   "source": [
    "import numpy as np\n",
    "import matplotlib.pyplot as plt\n",
    "from math import factorial"
   ]
  },
  {
   "cell_type": "markdown",
   "metadata": {},
   "source": [
    "In these excercises the Numerov algorithm is used to calculate the stationary states of neutrons in the gravitational field of the Earth.\n",
    "\n",
    "The gravitational potential can be expressed as \n",
    "(blabla hier fancy latex einfügen)\n",
    "\n",
    "we place a perfectly reflecting mirror at z=0, so  we only seek solutions for z>=0.\n",
    "\n",
    "We now need to properly choose length and energy units to blablabla\n",
    "so the equation can be written in the form \n",
    "blablabla formel vom Zettel\n",
    "\n",
    "An equation of this shape can be solved using the nuverov algorithm, as discussed in the lecture."
   ]
  },
  {
   "cell_type": "markdown",
   "metadata": {},
   "source": [
    "In the following cell, the Numerov algorithm is implemented. the function kb is defined so one can easily adapt the numerov algorithm to different potentials."
   ]
  },
  {
   "cell_type": "code",
   "execution_count": 74,
   "metadata": {},
   "outputs": [],
   "source": [
    "#Calculates each step using numerov method\n",
    "def numerov_step(psi_minus_1, psi, k_minus_1, k, k_plus_1, h):\n",
    "    h2 = h ** 2\n",
    "    a = 2 * (1 - (5 / 12) * (h2) * k) * psi\n",
    "    b = (1 + (1 / 12) * (h2) * k_minus_1) * psi_minus_1\n",
    "    c = (1 + (1 / 12) * (h2) * k_plus_1)\n",
    "    return (a - b) / c\n",
    "\n",
    "def kb(epsilon, x):\n",
    "    return epsilon-x\n",
    "\n",
    "def numerov(a, h, xmax, epsilon):\n",
    "    #initiate starting values\n",
    "    x0 = 0\n",
    "    x_out = [x0]\n",
    "    psi0 = 0\n",
    "    psi1 = a \n",
    "    psi_out = [psi0, psi1]\n",
    "    x0 += h\n",
    "    x_out.append(x0)\n",
    "    #iterate over intervall\n",
    "    while x0 <= xmax:\n",
    "        x0 += h\n",
    "        #calculate using numerov method\n",
    "        psin = numerov_step(psi_out[-2], psi_out[-1], kb(epsilon, (x_out[-2])), kb(epsilon, (x_out[-1])), kb(epsilon, (x0)), h)\n",
    "        #Needed for plotting\n",
    "        psi_out.append(psin)\n",
    "        x_out.append(x0)\n",
    "    #convert into arrays\n",
    "    x_out = np.array(x_out)\n",
    "    psi_out = np.array(psi_out)\n",
    "    return x_out, psi_out\n",
    "\n"
   ]
  },
  {
   "cell_type": "markdown",
   "metadata": {},
   "source": [
    "#### Part 1: The behaviour of the obtained solution for large x\n",
    "\n",
    "In the first part, the differential equation is solved and plotted for two different (blablabla epsilon), to show the different behaviour of the solution for x approaching infinity. "
   ]
  },
  {
   "cell_type": "code",
   "execution_count": 75,
   "metadata": {},
   "outputs": [
    {
     "data": {
      "text/plain": [
       "[<matplotlib.lines.Line2D at 0x1e7aa08c3c8>]"
      ]
     },
     "execution_count": 75,
     "metadata": {},
     "output_type": "execute_result"
    },
    {
     "data": {
      "image/png": "[encoded data removed]",
      "text/plain": [
       "<Figure size 432x288 with 1 Axes>"
      ]
     },
     "metadata": {
      "needs_background": "light"
     },
     "output_type": "display_data"
    }
   ],
   "source": [
    "#plot for eps = 0.1\n",
    "eps=0.1\n",
    "x_out, psi = numerov(1, 0.001, 10,eps)\n",
    "plt.title(\"Solution for eps = %.1f\" %(eps))\n",
    "plt.plot(x_out, psi)"
   ]
  },
  {
   "cell_type": "code",
   "execution_count": 76,
   "metadata": {},
   "outputs": [
    {
     "data": {
      "text/plain": [
       "[<matplotlib.lines.Line2D at 0x1e7aa1b2288>]"
      ]
     },
     "execution_count": 76,
     "metadata": {},
     "output_type": "execute_result"
    },
    {
     "data": {
      "image/png": "[encoded data removed]",
      "text/plain": [
       "<Figure size 432x288 with 1 Axes>"
      ]
     },
     "metadata": {
      "needs_background": "light"
     },
     "output_type": "display_data"
    }
   ],
   "source": [
    "#plot for eps = 2.5\n",
    "eps=2.5\n",
    "x_out, psi = numerov(1, 0.001, 10, eps)\n",
    "\n",
    "plt.title(\"Solution for eps = %.1f\" %(eps))\n",
    "plt.plot(x_out, psi)\n"
   ]
  },
  {
   "cell_type": "markdown",
   "metadata": {},
   "source": [
    "As one can see, eps = 0.1 leads to positive asymptopic behaviour, while eps =2.5 leads to necatv asymptopic behaviour\n",
    "( blablabla vielleicht noch mehr, ode rgründe oder so)"
   ]
  },
  {
   "cell_type": "markdown",
   "metadata": {},
   "source": [
    "### Part 2: Calculating the Eigenvalues of the equation\n",
    "\n",
    "In this part of the excercise, the Eigenvalues of the first three bound states were calculated to two decimals behind the comma, using the properties of the eigenfunction."
   ]
  },
  {
   "cell_type": "code",
   "execution_count": 72,
   "metadata": {},
   "outputs": [],
   "source": [
    "def find_eigenvalues(steps, stepsize):\n",
    "    #Stores possible solutions\n",
    "    poss_sol = []\n",
    "    #Stores last value of each calculation\n",
    "    list_last = []\n",
    "    #calculate for different epsilons\n",
    "    for i in range(steps):\n",
    "        x, y = numerov(1, 0.001, 10, i*stepsize)\n",
    "        list_last.append(y[-1])\n",
    "    #turn into np.array\n",
    "    list_last = np.array(list_last)\n",
    "    #Iterate over every list item\n",
    "    for n, y in enumerate(list_last):\n",
    "        #Dont check 1st item, error would be thrown\n",
    "        if n == 0:\n",
    "            pass\n",
    "        #if the last value of the array switches its value from plus to minus,\n",
    "        # we know one of the values for epsilon must be an eigenvalue \n",
    "        elif list_last[n-1] > 0 and list_last[n] < 0:\n",
    "            #checks which value is closer to zero and appends the one to the solutions list\n",
    "            if abs(list_last[n-1]) < abs(list_last[n]):\n",
    "                poss_sol.append((n-1)*stepsize)\n",
    "            else:\n",
    "                poss_sol.append(n*stepsize)\n",
    "        #vice versa for switch form minus to plus\n",
    "        elif list_last[n-1] < 0 and list_last[n] > 0:\n",
    "            #same as above\n",
    "            if abs(list_last[n-1]) < abs(list_last[n]):\n",
    "                poss_sol.append((n-1)*stepsize)\n",
    "            else:\n",
    "                poss_sol.append(n*stepsize)\n",
    "        #break after 3 solutions are found\n",
    "        if len(poss_sol) == 3:\n",
    "            break\n",
    "        \n",
    "    return poss_sol\n"
   ]
  },
  {
   "cell_type": "markdown",
   "metadata": {},
   "source": [
    "The function to calculate possible eigenvalues in agiven range is now used to find the first three values beween 1000 and 1 "
   ]
  },
  {
   "cell_type": "code",
   "execution_count": 73,
   "metadata": {},
   "outputs": [
    {
     "name": "stdout",
     "output_type": "stream",
     "text": [
      "Eigenvalue 1 = 2.34\n",
      "Eigenvalue 2 = 4.09\n",
      "Eigenvalue 3 = 5.52\n"
     ]
    }
   ],
   "source": [
    "poss_sol = find_eigenvalues(1000, 0.01)\n",
    "for n, solution in enumerate(poss_sol):\n",
    "    print(f\"Eigenvalue {n+1} = {solution:.2f}\")"
   ]
  }
 ],
 "metadata": {
  "kernelspec": {
   "display_name": "Python 3",
   "language": "python",
   "name": "python3"
  },
  "language_info": {
   "codemirror_mode": {
    "name": "ipython",
    "version": 3
   },
   "file_extension": ".py",
   "mimetype": "text/x-python",
   "name": "python",
   "nbconvert_exporter": "python",
   "pygments_lexer": "ipython3",
   "version": "3.7.4"
  }
 },
 "nbformat": 4,
 "nbformat_minor": 2
}
