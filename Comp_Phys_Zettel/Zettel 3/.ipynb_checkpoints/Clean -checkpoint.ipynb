{
 "cells": [
  {
   "cell_type": "code",
   "execution_count": 49,
   "metadata": {},
   "outputs": [],
   "source": [
    "%matplotlib inline\n",
    "\n",
    "import matplotlib.pyplot as plt\n",
    "import numpy as np\n",
    "from numpy.linalg import norm\n",
    "from mpl_toolkits.mplot3d import Axes3D\n",
    "import matplotlib.cm as cm"
   ]
  },
  {
   "cell_type": "code",
   "execution_count": 73,
   "metadata": {},
   "outputs": [],
   "source": [
    "\n",
    "def rk4_step(f,h,y0,x0):\n",
    "    ''' Simple python implementation for one RK4 step. \n",
    "        Inputs:\n",
    "            y_0    - M x 1 numpy array specifying all variables of the ODE at the current time step\n",
    "            x_0    - current time step\n",
    "            f      - function that calculates the derivates of all variables of the ODE\n",
    "            h      - time step size\n",
    "            f_args - Dictionary of additional arguments to be passed to the function f\n",
    "        Output:\n",
    "            yp1 - M x 1 numpy array of variables at time step x0 + h\n",
    "            xp1 - time step x0+h\n",
    "    '''\n",
    "    k1 = h * f(y0, x0)\n",
    "    k2 = h * f(y0 + k1/2., x0 + h/2.)\n",
    "    k3 = h * f(y0 + k2/2., x0 + h/2.)\n",
    "    k4 = h * f(y0 + k3, x0 + h)\n",
    "    \n",
    "    xp1 = x0 + h\n",
    "    yp1 = y0 + 1./6.*(k1 + 2.*k2 + 2.*k3 + k4)\n",
    "    \n",
    "    return(yp1,xp1)\n",
    "\n"
   ]
  },
  {
   "cell_type": "code",
   "execution_count": 74,
   "metadata": {},
   "outputs": [],
   "source": [
    "G = 1\n",
    "def f_1x(x1, x2, x3, y1, y2, y3):\n",
    "    return G*m2*(x2-x1)/(np.sqrt((x2-x1)**2+(y2-y1)**2))**3 + G*m3*(x3-x1)/(np.sqrt((x3-x1)**2+(y3-y1)**2))**3 \n",
    "def f_1y(x1, x2, x3, y1, y2, y3):\n",
    "    return G*m2*(y2-y1)/(np.sqrt((x2-x1)**2+(y2-y1)**2))**3 + G*m3*(y3-y1)/(np.sqrt((x3-x1)**2+(y3-y1)**2))**3 \n",
    "\n",
    "\n",
    "def f_2x(x1, x2, x3, y1, y2, y3):\n",
    "    return G*m1*(x1-x2)/(np.sqrt((x1-x2)**2+(y1-y2)**2))**3  + G*m3*(x3-x2)/(np.sqrt((x3-x2)**2+(y3-y2)**2))**3 \n",
    "def f_2y(x1, x2, x3, y1, y2, y3):\n",
    "    return G*m1*(y1-y2)/(np.sqrt((x1-x2)**2+(y1-y2)**2))**3  + G*m3*(y3-y2)/(np.sqrt((x3-x2)**2+(y3-y2)**2))**3 \n",
    "\n",
    "def f_3x(x1, x2, x3, y1, y2, y3):\n",
    "    return G*m2*(x2-x3)/(np.sqrt((x2-x3)**2+(y2-y3)**2))**3  + G*m1*(x1-x3)/(np.sqrt((x1-x3)**2+(y1-y3)**2))**3 \n",
    "def f_3y(x1, x2, x3, y1, y2, y3):\n",
    "    return G*m2*(y2-y3)/(np.sqrt((x2-x3)**2+(y2-y3)**2))**3  + G*m1*(y1-y3)/(np.sqrt((x1-x3)**2+(y1-y3)**2))**3 \n",
    "\n"
   ]
  },
  {
   "cell_type": "code",
   "execution_count": 75,
   "metadata": {},
   "outputs": [],
   "source": [
    "def f(z, x0):\n",
    "    a_x1 = f_1x(z[0],z[2],z[4],z[6],z[8],z[10])\n",
    "    a_x2 = f_2x(z[0],z[2],z[4],z[6],z[8],z[10])\n",
    "    a_x3 = f_3x(z[0],z[2],z[4],z[6],z[8],z[10])\n",
    "    a_y1 = f_1y(z[0],z[2],z[4],z[6],z[8],z[10])\n",
    "    a_y2 = f_2y(z[0],z[2],z[4],z[6],z[8],z[10])\n",
    "    a_y3 = f_3y(z[0],z[2],z[4],z[6],z[8],z[10])\n",
    "    return np.array([z[1],a_x1,z[3],a_x2,z[5],a_x3,z[7],a_y1,z[9],a_y2,z[11],a_y3])\n",
    "\n"
   ]
  },
  {
   "cell_type": "code",
   "execution_count": 76,
   "metadata": {},
   "outputs": [
    {
     "data": {
      "text/plain": [
       "[<matplotlib.lines.Line2D at 0x1185cb7d0>]"
      ]
     },
     "execution_count": 76,
     "metadata": {},
     "output_type": "execute_result"
    },
    {
     "data": {
      "image/png": "[encoded data removed]",
      "text/plain": [
       "<Figure size 432x288 with 1 Axes>"
      ]
     },
     "metadata": {
      "needs_background": "light"
     },
     "output_type": "display_data"
    }
   ],
   "source": [
    "x_max = 10\n",
    "x0 = 0\n",
    "h = 0.01\n",
    "m1 = 1\n",
    "m2 = 1\n",
    "m3 = 1\n",
    "G = 1\n",
    "x1=-0.97000436\n",
    "y1=0.24308753\n",
    "vx1=-0.46620368\n",
    "vy1=-0.43236573\n",
    "x2=0.97000436\n",
    "y2=-0.24308753\n",
    "vx2=-0.46620368\n",
    "vy2=-0.43236573\n",
    "x3=0.0\n",
    "y3=0.0\n",
    "vx3=0.93240737\n",
    "vy3=0.86473146\n",
    "Z = []\n",
    "X0 = []\n",
    "z=np.array([x1,vx1,x2,vx2,x3,vx3,y1,vy1,y2,vy2,y3,vy3])\n",
    "while x0 < x_max:\n",
    "    Z.append(z)\n",
    "    X0.append(x0)\n",
    "    z, x0 = rk4_step(f,h,np.array(z),x0)\n",
    "    \n",
    "x1list = []\n",
    "x2list = [] \n",
    "x3list = [] \n",
    "y1list = [] \n",
    "y2list = []\n",
    "y3list = [] \n",
    "for i in Z:\n",
    "    x1list.append(i[0])\n",
    "    x2list.append(i[2])\n",
    "    x3list.append(i[4])\n",
    "    y1list.append(i[6])\n",
    "    y2list.append(i[8])\n",
    "    y3list.append(i[10])\n",
    "\n",
    "plt.plot(x1list, y1list)\n",
    "plt.plot(x2list, y2list)\n",
    "plt.plot(x3list, y3list)"
   ]
  },
  {
   "cell_type": "code",
   "execution_count": 90,
   "metadata": {},
   "outputs": [],
   "source": [
    "def f_1(pos_vel, x0):\n",
    "    a_x1 = f_1x(pos_vel[0], pos_vel[2], pos_vel[4], pos_vel[6], pos_vel[8], pos_vel[10])\n",
    "    a_x2 = f_2x(pos_vel[0], pos_vel[2], pos_vel[4], pos_vel[6], pos_vel[8], pos_vel[10])\n",
    "    a_x3 = f_3x(pos_vel[0], pos_vel[2], pos_vel[4], pos_vel[6], pos_vel[8], pos_vel[10])\n",
    "    a_y1 = f_1y(pos_vel[0], pos_vel[2], pos_vel[4], pos_vel[6], pos_vel[8], pos_vel[10])\n",
    "    a_y2 = f_2y(pos_vel[0], pos_vel[2], pos_vel[4], pos_vel[6], pos_vel[8], pos_vel[10])\n",
    "    a_y3 = f_3y(pos_vel[0], pos_vel[2], pos_vel[4], pos_vel[6], pos_vel[8], pos_vel[10])\n",
    "    return np.array([pos_vel[1], a_x1, pos_vel[3], a_x2, pos_vel[5], a_x3, pos_vel[7], a_y1,pos_vel[9], a_y2,pos_vel[11], a_y3])\n",
    "\n",
    "\n"
   ]
  },
  {
   "cell_type": "code",
   "execution_count": 99,
   "metadata": {},
   "outputs": [
    {
     "data": {
      "text/plain": [
       "<matplotlib.collections.PathCollection at 0x119aef590>"
      ]
     },
     "execution_count": 99,
     "metadata": {},
     "output_type": "execute_result"
    },
    {
     "data": {
      "image/png": "[encoded data removed]",
      "text/plain": [
       "<Figure size 432x288 with 1 Axes>"
      ]
     },
     "metadata": {
      "needs_background": "light"
     },
     "output_type": "display_data"
    }
   ],
   "source": [
    "x_max = 5\n",
    "x0 = 0\n",
    "h = 0.01\n",
    "m1 = 1\n",
    "m2 = 1\n",
    "m3 = 1\n",
    "G = 1\n",
    "x1=-0.97000436\n",
    "y1=0.24308753\n",
    "vx1=-0.46620368\n",
    "vy1=-0.43236573\n",
    "x2=0.97000436\n",
    "y2=-0.24308753\n",
    "vx2=-0.46620368\n",
    "vy2=-0.43236573\n",
    "x3=0.0\n",
    "y3=0.0\n",
    "vx3=0.93240737\n",
    "vy3=0.86473146\n",
    "Z = []\n",
    "X0 = []\n",
    "pos_vel=np.array([x1,vx1,x2,vx2,x3,vx3,y1,vy1,y2,vy2,y3,vy3])\n",
    "while x0 < x_max:\n",
    "    Z.append(pos_vel)\n",
    "    X0.append(x0)\n",
    "    pos_vel, x0 = rk4_step(f_1,h,np.array(pos_vel),x0)\n",
    "    \n",
    "x1list = []\n",
    "x2list = [] \n",
    "x3list = [] \n",
    "y1list = [] \n",
    "y2list = []\n",
    "y3list = [] \n",
    "for i in Z:\n",
    "    x1list.append(i[0])\n",
    "    x2list.append(i[2])\n",
    "    x3list.append(i[4])\n",
    "    y1list.append(i[6])\n",
    "    y2list.append(i[8])\n",
    "    y3list.append(i[10])\n",
    "\n",
    "plt.plot(x1list, y1list)\n",
    "plt.plot(x2list, y2list)\n",
    "plt.plot(x3list, y3list)\n",
    "plt.scatter(x1, y1, c=\"yellow\")\n",
    "plt.scatter(x2, y2, c=\"yellow\")\n",
    "plt.scatter(x3, y3, c=\"yellow\")\n",
    "plt.scatter(x1list[int(len(x1list)/2)], y1list[int(len(x1list)/2)], c=\"red\")\n",
    "plt.scatter(x2list[int(len(x2list)/2)], y2list[int(len(x2list)/2)], c=\"red\")\n",
    "plt.scatter(x3list[int(len(x3list)/2)], y3list[int(len(x3list)/2)], c=\"red\")\n",
    "plt.scatter(x1list[int(len(x1list)/4)], y1list[int(len(x1list)/4)], c=\"blue\")\n",
    "plt.scatter(x2list[int(len(x2list)/4)], y2list[int(len(x2list)/4)], c=\"blue\")\n",
    "plt.scatter(x3list[int(len(x3list)/4)], y3list[int(len(x1list)/4)], c=\"blue\")\n",
    "\n",
    "\n",
    "\n"
   ]
  },
  {
   "cell_type": "code",
   "execution_count": 100,
   "metadata": {},
   "outputs": [],
   "source": [
    "x_max = 5\n",
    "x0 = 0\n",
    "h = 0.01\n",
    "m1 = 1\n",
    "m2 = 1\n",
    "m3 = 1\n",
    "G = 1\n",
    "x1=-0.97000436\n",
    "y1=0.24308753\n",
    "vx1=-0.46620368\n",
    "vy1=-0.43236573\n",
    "x2=0.97000436\n",
    "y2=-0.24308753\n",
    "vx2=-0.46620368\n",
    "vy2=-0.43236573\n",
    "x3=0.0\n",
    "y3=0.0\n",
    "vx3=0.93240737\n",
    "vy3=0.86473146\n",
    "Z = []\n",
    "X0 = []\n",
    "pos_vel=np.array([x1,vx1,x2,vx2,x3,vx3,y1,vy1,y2,vy2,y3,vy3])\n",
    "class RungeKutta():\n",
    "    \n",
    "    #Function initializes object, normalises r0,v0 to s0, w0 (see script page 6)\n",
    "    def __init__(self, r_0, v_0, h, steps, threed=False):\n",
    "        self.x0 = x0\n",
    "        self.x_max = x_max\n",
    "        self.h = h\n",
    "        self.m1 = m1\n",
    "        self.m2 = m2\n",
    "        self.m3 = m3\n",
    "        \n",
    "        self.y_location = []\n",
    "        self.x_location = []\n",
    "        self.z_location = []\n",
    "        self.threed = threed#if true, the object will contain information in 3d\n",
    "        self.rel_Error = []\n",
    "\n",
    "    #This function calculates each location, based on the last location and its velocity\n",
    "    def loc(self, i):\n",
    "        location_i = self.location[i - 1] + (self.velocity[i - 1] * self.h)\n",
    "        self.location.append(location_i)\n",
    "        \n",
    "    #This function calculates each location, based on the last location and the velocity of the last half step    \n",
    "    def loc_leap(self, i):\n",
    "        location_i = self.location[-1] + (self.velocity[-1] * self.h)\n",
    "        self.location.append(location_i)\n",
    "    \n",
    "    #This function calculates each velocity, based on the last location and its velocity\n",
    "    def vel(self, i):\n",
    "        velocity_i =  self.velocity[i - 1] - ((self.location[i - 1] / norm(self.location[i - 1]) ** 3) * self.h)\n",
    "        self.velocity.append(velocity_i)\n",
    "    \n",
    "    #This function calculates each velocity, based on the last velocity and the position of the last half step        \n",
    "    def vel_half(self, i):\n",
    "        velocity_i =  self.velocity[i - 1] - ((self.location[i - 1] / norm(self.location[i - 1]) ** 3) * self.h*0.5)\n",
    "        self.velocity.append(velocity_i)\n",
    "    \n",
    "    #This function calculates the energy, based on the currents steps velocity and position   \n",
    "    def energy(self, i):\n",
    "        e =  1 / 4 * norm(self.velocity[i]) ** 2 - 1 / norm(self.location[i])\n",
    "        self.energies.append(e)\n",
    "\n",
    "    #This function is a helper function, it splits the array of vectors into arrays of the x and y\n",
    "    #location, so we can later implement a scatter plot\n",
    "    def split(self):\n",
    "        if self.threed == False:\n",
    "            for location in self.location:\n",
    "                self.x_location.append(location[0])\n",
    "                self.y_location.append(location[1])\n",
    "        else:\n",
    "            for location in self.location:\n",
    "                self.x_location.append(location[0])\n",
    "                self.y_location.append(location[1])\n",
    "                self.z_location.append(location[2])\n",
    "\n",
    "    #This function calculates the relative energy error, based on the initial energy. Ideally this Error should\n",
    "    # be 0, since energy is conserved\n",
    "    def calc_rel_Error(self, i):\n",
    "        rel_E_i = np.abs((self.energies[0] - self.energies[i])/self.energies[0])\n",
    "        self.rel_Error.append(rel_E_i)\n",
    "    \n",
    "    #This function combines all Euler method calculations\n",
    "    def calc(self):\n",
    "        for i in range(1, self.steps):\n",
    "            loc = self.loc(i)\n",
    "            self.vel(i)\n",
    "            self.energy(i)\n",
    "            self.calc_rel_Error(i)\n",
    "            \n",
    "        self.split()\n",
    "        \n",
    "    #This function combines all Leap Frog method calculations\n",
    "    def calc_leap(self):\n",
    "        for i in range(1, self.steps):\n",
    "            if i == 1:\n",
    "                self.vel_half(i)\n",
    "            else:\n",
    "                self.vel(i)\n",
    "            self.loc_leap(i)\n",
    "            self.energy(i)\n",
    "            self.calc_rel_Error(i)\n",
    "        self.split()"
   ]
  },
  {
   "cell_type": "code",
   "execution_count": null,
   "metadata": {},
   "outputs": [],
   "source": []
  },
  {
   "cell_type": "code",
   "execution_count": null,
   "metadata": {},
   "outputs": [],
   "source": []
  },
  {
   "cell_type": "code",
   "execution_count": null,
   "metadata": {},
   "outputs": [],
   "source": []
  },
  {
   "cell_type": "code",
   "execution_count": null,
   "metadata": {},
   "outputs": [],
   "source": []
  },
  {
   "cell_type": "code",
   "execution_count": null,
   "metadata": {},
   "outputs": [],
   "source": []
  },
  {
   "cell_type": "code",
   "execution_count": null,
   "metadata": {},
   "outputs": [],
   "source": []
  },
  {
   "cell_type": "code",
   "execution_count": null,
   "metadata": {},
   "outputs": [],
   "source": []
  }
 ],
 "metadata": {
  "kernelspec": {
   "display_name": "Python 3",
   "language": "python",
   "name": "python3"
  },
  "language_info": {
   "codemirror_mode": {
    "name": "ipython",
    "version": 3
   },
   "file_extension": ".py",
   "mimetype": "text/x-python",
   "name": "python",
   "nbconvert_exporter": "python",
   "pygments_lexer": "ipython3",
   "version": "3.7.4"
  },
  "latex_envs": {
   "LaTeX_envs_menu_present": true,
   "autoclose": false,
   "autocomplete": true,
   "bibliofile": "biblio.bib",
   "cite_by": "apalike",
   "current_citInitial": 1,
   "eqLabelWithNumbers": true,
   "eqNumInitial": 1,
   "hotkeys": {
    "equation": "Ctrl-E",
    "itemize": "Ctrl-I"
   },
   "labels_anchors": false,
   "latex_user_defs": false,
   "report_style_numbering": false,
   "user_envs_cfg": false
  }
 },
 "nbformat": 4,
 "nbformat_minor": 4
}
