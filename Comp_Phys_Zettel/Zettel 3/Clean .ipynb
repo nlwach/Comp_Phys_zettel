{
 "cells": [
  {
   "cell_type": "code",
   "execution_count": 1,
   "metadata": {},
   "outputs": [],
   "source": [
    "%matplotlib inline\n",
    "\n",
    "import matplotlib.pyplot as plt\n",
    "import numpy as np\n",
    "from numpy.linalg import norm\n",
    "from mpl_toolkits.mplot3d import Axes3D\n",
    "import matplotlib.cm as cm"
   ]
  },
  {
   "cell_type": "code",
   "execution_count": 2,
   "metadata": {},
   "outputs": [],
   "source": [
    "\n",
    "def rk4_step(f,h,y0,x0):\n",
    "    ''' Simple python implementation for one RK4 step. \n",
    "        Inputs:\n",
    "            y_0    - M x 1 numpy array specifying all variables of the ODE at the current time step\n",
    "            x_0    - current time step\n",
    "            f      - function that calculates the derivates of all variables of the ODE\n",
    "            h      - time step size\n",
    "            f_args - Dictionary of additional arguments to be passed to the function f\n",
    "        Output:\n",
    "            yp1 - M x 1 numpy array of variables at time step x0 + h\n",
    "            xp1 - time step x0+h\n",
    "    '''\n",
    "    k1 = h * f(y0, x0)\n",
    "    k2 = h * f(y0 + k1/2., x0 + h/2.)\n",
    "    k3 = h * f(y0 + k2/2., x0 + h/2.)\n",
    "    k4 = h * f(y0 + k3, x0 + h)\n",
    "    \n",
    "    xp1 = x0 + h\n",
    "    yp1 = y0 + 1./6.*(k1 + 2.*k2 + 2.*k3 + k4)\n",
    "    \n",
    "    return(yp1,xp1)\n",
    "\n"
   ]
  },
  {
   "cell_type": "code",
   "execution_count": 6,
   "metadata": {},
   "outputs": [],
   "source": [
    "def f_1x(x1, x2, x3, y1, y2, y3):\n",
    "    return G*m2*(x2-x1)/(np.sqrt((x2-x1)**2+(y2-y1)**2))**3 + G*m3*(x3-x1)/(np.sqrt((x3-x1)**2+(y3-y1)**2))**3 \n",
    "def f_1y(x1, x2, x3, y1, y2, y3):\n",
    "    return G*m2*(y2-y1)/(np.sqrt((x2-x1)**2+(y2-y1)**2))**3 + G*m3*(y3-y1)/(np.sqrt((x3-x1)**2+(y3-y1)**2))**3 \n",
    "\n",
    "\n",
    "def f_2x(x1, x2, x3, y1, y2, y3):\n",
    "    return G*m1*(x1-x2)/(np.sqrt((x1-x2)**2+(y1-y2)**2))**3  + G*m3*(x3-x2)/(np.sqrt((x3-x2)**2+(y3-y2)**2))**3 \n",
    "def f_2y(x1, x2, x3, y1, y2, y3):\n",
    "    return G*m1*(y1-y2)/(np.sqrt((x1-x2)**2+(y1-y2)**2))**3  + G*m3*(y3-y2)/(np.sqrt((x3-x2)**2+(y3-y2)**2))**3 \n",
    "\n",
    "\n",
    "def f_3x(x1, x2, x3, y1, y2, y3):\n",
    "    return G*m2*(x2-x3)/(np.sqrt((x2-x3)**2+(y2-y3)**2))**3  + G*m1*(x1-x3)/(np.sqrt((x1-x3)**2+(y1-y3)**2))**3 \n",
    "def f_3y(x1, x2, x3, y1, y2, y3):\n",
    "    return G*m2*(y2-y3)/(np.sqrt((x2-x3)**2+(y2-y3)**2))**3  + G*m1*(y1-y3)/(np.sqrt((x1-x3)**2+(y1-y3)**2))**3 \n",
    "\n"
   ]
  },
  {
   "cell_type": "code",
   "execution_count": null,
   "metadata": {},
   "outputs": [],
   "source": [
    "\n"
   ]
  },
  {
   "cell_type": "code",
   "execution_count": 7,
   "metadata": {},
   "outputs": [],
   "source": [
    "def f_1(pos_vel, x0):\n",
    "    a_x1 = f_1x(pos_vel[0], pos_vel[2], pos_vel[4], pos_vel[6], pos_vel[8], pos_vel[10])\n",
    "    a_x2 = f_2x(pos_vel[0], pos_vel[2], pos_vel[4], pos_vel[6], pos_vel[8], pos_vel[10])\n",
    "    a_x3 = f_3x(pos_vel[0], pos_vel[2], pos_vel[4], pos_vel[6], pos_vel[8], pos_vel[10])\n",
    "    a_y1 = f_1y(pos_vel[0], pos_vel[2], pos_vel[4], pos_vel[6], pos_vel[8], pos_vel[10])\n",
    "    a_y2 = f_2y(pos_vel[0], pos_vel[2], pos_vel[4], pos_vel[6], pos_vel[8], pos_vel[10])\n",
    "    a_y3 = f_3y(pos_vel[0], pos_vel[2], pos_vel[4], pos_vel[6], pos_vel[8], pos_vel[10])\n",
    "    return np.array([pos_vel[1], a_x1, pos_vel[3], a_x2, pos_vel[5], a_x3, pos_vel[7], a_y1,pos_vel[9], a_y2,pos_vel[11], a_y3])\n",
    "\n",
    "\n"
   ]
  },
  {
   "cell_type": "code",
   "execution_count": 18,
   "metadata": {},
   "outputs": [
    {
     "data": {
      "text/plain": [
       "<matplotlib.collections.PathCollection at 0x10b845bd0>"
      ]
     },
     "execution_count": 18,
     "metadata": {},
     "output_type": "execute_result"
    },
    {
     "data": {
      "image/png": "[encoded data removed]",
      "text/plain": [
       "<Figure size 432x288 with 1 Axes>"
      ]
     },
     "metadata": {
      "needs_background": "light"
     },
     "output_type": "display_data"
    }
   ],
   "source": [
    "x_max = 10\n",
    "x0 = 0\n",
    "h = 0.1\n",
    "m1 = 1\n",
    "m2 = 1\n",
    "m3 = 1\n",
    "G = 1\n",
    "x1=-0.97000436\n",
    "y1=0.24308753\n",
    "vx1=-0.46620368\n",
    "vy1=-0.43236573\n",
    "x2=0.97000436\n",
    "y2=-0.24308753\n",
    "vx2=-0.46620368\n",
    "vy2=-0.43236573\n",
    "x3=0.0\n",
    "y3=0.0\n",
    "vx3=0.93240737\n",
    "vy3=0.86473146\n",
    "Z = []\n",
    "X0 = []\n",
    "pos_vel=np.array([x1,vx1,x2,vx2,x3,vx3,y1,vy1,y2,vy2,y3,vy3])\n",
    "while x0 < x_max:\n",
    "    Z.append(pos_vel)\n",
    "    X0.append(x0)\n",
    "    pos_vel, x0 = rk4_step(f_1,h,np.array(pos_vel),x0)\n",
    "    \n",
    "x1list = []\n",
    "x2list = [] \n",
    "x3list = [] \n",
    "y1list = [] \n",
    "y2list = []\n",
    "y3list = [] \n",
    "for i in Z:\n",
    "    x1list.append(i[0])\n",
    "    x2list.append(i[2])\n",
    "    x3list.append(i[4])\n",
    "    y1list.append(i[6])\n",
    "    y2list.append(i[8])\n",
    "    y3list.append(i[10])\n",
    "\n",
    "plt.plot(x1list, y1list)\n",
    "plt.plot(x2list, y2list)\n",
    "plt.plot(x3list, y3list)\n",
    "plt.scatter(x1, y1, c=\"yellow\")\n",
    "plt.scatter(x2, y2, c=\"yellow\")\n",
    "plt.scatter(x3, y3, c=\"yellow\")\n",
    "plt.scatter(x1list[int(len(x1list)/2)], y1list[int(len(x1list)/2)], c=\"red\")\n",
    "plt.scatter(x2list[int(len(x2list)/2)], y2list[int(len(x2list)/2)], c=\"red\")\n",
    "plt.scatter(x3list[int(len(x3list)/2)], y3list[int(len(x3list)/2)], c=\"red\")\n",
    "plt.scatter(x1list[int(len(x1list)/4)], y1list[int(len(x1list)/4)], c=\"blue\")\n",
    "plt.scatter(x2list[int(len(x2list)/4)], y2list[int(len(x2list)/4)], c=\"blue\")\n",
    "plt.scatter(x3list[int(len(x3list)/4)], y3list[int(len(x1list)/4)], c=\"blue\")\n",
    "\n",
    "\n",
    "\n"
   ]
  },
  {
   "cell_type": "code",
   "execution_count": 100,
   "metadata": {},
   "outputs": [],
   "source": []
  },
  {
   "cell_type": "code",
   "execution_count": null,
   "metadata": {},
   "outputs": [],
   "source": []
  },
  {
   "cell_type": "code",
   "execution_count": null,
   "metadata": {},
   "outputs": [],
   "source": []
  },
  {
   "cell_type": "code",
   "execution_count": null,
   "metadata": {},
   "outputs": [],
   "source": []
  },
  {
   "cell_type": "code",
   "execution_count": null,
   "metadata": {},
   "outputs": [],
   "source": []
  },
  {
   "cell_type": "code",
   "execution_count": null,
   "metadata": {},
   "outputs": [],
   "source": []
  },
  {
   "cell_type": "code",
   "execution_count": null,
   "metadata": {},
   "outputs": [],
   "source": []
  },
  {
   "cell_type": "code",
   "execution_count": null,
   "metadata": {},
   "outputs": [],
   "source": []
  }
 ],
 "metadata": {
  "kernelspec": {
   "display_name": "Python 3",
   "language": "python",
   "name": "python3"
  },
  "language_info": {
   "codemirror_mode": {
    "name": "ipython",
    "version": 3
   },
   "file_extension": ".py",
   "mimetype": "text/x-python",
   "name": "python",
   "nbconvert_exporter": "python",
   "pygments_lexer": "ipython3",
   "version": "3.7.4"
  },
  "latex_envs": {
   "LaTeX_envs_menu_present": true,
   "autoclose": false,
   "autocomplete": true,
   "bibliofile": "biblio.bib",
   "cite_by": "apalike",
   "current_citInitial": 1,
   "eqLabelWithNumbers": true,
   "eqNumInitial": 1,
   "hotkeys": {
    "equation": "Ctrl-E",
    "itemize": "Ctrl-I"
   },
   "labels_anchors": false,
   "latex_user_defs": false,
   "report_style_numbering": false,
   "user_envs_cfg": false
  }
 },
 "nbformat": 4,
 "nbformat_minor": 4
}
