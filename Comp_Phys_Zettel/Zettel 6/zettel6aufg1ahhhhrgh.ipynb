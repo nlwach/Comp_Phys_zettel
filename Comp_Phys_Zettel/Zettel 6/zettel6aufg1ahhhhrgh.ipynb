{
 "cells": [
  {
   "cell_type": "code",
   "execution_count": 10,
   "metadata": {},
   "outputs": [],
   "source": [
    "import numpy as np\n",
    "from scipy import linalg\n",
    "import scipy.linalg\n",
    "import matplotlib.pyplot as plt\n",
    "#from tabulate import tabulate\n",
    "from numpy.linalg import matrix_power\n",
    "%matplotlib inline"
   ]
  },
  {
   "cell_type": "markdown",
   "metadata": {},
   "source": [
    "In the first part of the excercise a NxN matrix $Q^4$ is constructed. from the lecture, we know from the script that\n",
    "\n",
    "\n",
    "$$Q^2_{n,m} = \\frac{1}{2}\\left(\\psi_n * (a+a^*) * (a+a^*)*\\psi_m\\right)\n",
    "=\\frac{1}{2}\\left(\\psi_n *\\left( aa + (2\\hat{n}+1)+a^*a^*\\right) *\\psi_m\\right)$$\n",
    "\n",
    "in just the same manner, $Q^4$ can be calculated using the operators $a $and $a^*$\n",
    "this leads to\n",
    "\n",
    "$$Q^4_{n,m} = \\frac{1}{4}\\left(\\psi_n* *\\left( aa + (2\\hat{n}+1)+a^*a^*\\right) *\\left( aa + (2\\hat{n}+1)+a^*a^*\\right)*\\psi_m\\right)$$\n",
    "\n",
    "$$ = \\frac{1}{4}\\left(\\psi_n* *\\left( aaaa + aa(2\\hat{n}+1)+a^*a^*(2\\hat{n}+1)+(2\\hat{n}+1)^2+a^*a^*a^*a^*\\right)*\\psi_m\\right)$$\n",
    "\n",
    "the effect of the operators on \\psi_m$ is calculated individually:\n",
    "\n",
    "$$aaaa*\\psi_m =\\sqrt{m(m-1)(m-2)(m-3)}* \\psi_{m-4} $$\n",
    "\n",
    "$$a^*a^*a^*a*\\psi_m =\\sqrt{(m+1)(m+2)(m+3)(m+4)}* \\psi_{m+4} $$\n",
    "\n",
    "$$a^*a^*(2\\hat{n}+1)\\psi_m =(2m+1)\\sqrt{(m+1)(m+2)}* \\psi_{m+2} $$\n",
    "\n",
    "$$(2\\hat{n}+1)a^*a^*\\psi_m =(2(m+2)+1)\\sqrt{(m+1)(m+2)}* \\psi_{m+2} $$\n",
    "\n",
    "$$(2\\hat{n}+1)aa\\psi_m =(2(m-2)+1)\\sqrt{m(m-1)}* \\psi_{m-2} $$\n",
    "\n",
    "$$aa(2\\hat{n}+1)\\psi_m=(2m+1)\\sqrt{m(m-1)}\\psi_{m-2}$$\n",
    "\n",
    "$$aaa^*a^**\\psi_m=(m+1)(m+2)*\\psi_m$$\n",
    "\n",
    "$$a^*a^*aa*\\psi_m=m(m-1)*\\psi_m$$\n",
    "\n",
    "$$(2\\hat{n}+1)^2*\\psi_m=(2m+1)^2*\\psi_m$$\n",
    "\n",
    "\n",
    "with $\\psi_m*\\psi_m=\\delta_{n, m}$ and the above results, we get the final expression \n",
    "\n",
    "$$Q^4_{n,m}=\\frac{1}{4}\\left( \\sqrt{m(m-1)(m-2)(m-3)}\\delta_{n, m-4}+\\sqrt{(m+1)(m+2)(m+3)(m+4)}\\delta_{n, m+4}\\\\ +((2m+1)+(2(m+2)+1))\\sqrt{(m+1)(m+2)}*\\delta_{n, m+2}\n",
    "+((2m+1)+(2(m-2)+1)\\sqrt{m(m-1)}\\delta_{n, m-2}\\\\+\\left((m+1)(m+2)+m(m-1)+(2m+1)^2\\right)\\delta_{n, m}\\right )$$\n",
    "\n",
    "As this was a very tedious calculation, some errors might have slipped in. \n",
    "We still continue under the assumption, that this is in fact the right formula, and use it to make a function that creates a matrix $Q^4$\n",
    "\n",
    "\n",
    "\n",
    "\n",
    "\n",
    "\n",
    "\n",
    "\n",
    "\n",
    "\n"
   ]
  },
  {
   "cell_type": "code",
   "execution_count": 33,
   "metadata": {},
   "outputs": [
    {
     "name": "stdout",
     "output_type": "stream",
     "text": [
      "[[ 0.75        0.          2.59807621  0.        ]\n",
      " [ 0.          3.75        0.          7.07106781]\n",
      " [ 2.12132034  0.          9.75        0.        ]\n",
      " [ 0.          6.12372436  0.         18.75      ]]\n"
     ]
    }
   ],
   "source": [
    "def create_Q4(N): #N: Matrix size (N*N)-Matrix\n",
    "    Q = np.zeros([N,N])\n",
    "    i=0\n",
    "    m=0\n",
    "    for i in range(N):\n",
    "        # fill matrix with values \n",
    "        for m in range(N):\n",
    "            if (m==i):\n",
    "                Q[i][m]= (m+1)*(m+2)+m*(m-1)+(2*m+1)**2\n",
    "                \n",
    "            elif m==i+4:\n",
    "                Q[i][m] =np.sqrt(m*(m-1)*(m-2)*(m-3))\n",
    "            elif m==i-4:\n",
    "                Q[i][m]= np.sqrt((m+1)*(m+2)*(m+3)*(m+4))\n",
    "                \n",
    "                    \n",
    "            elif m == i-2:\n",
    "                Q[i][m]=((2*m+1)+(2*(m+2)+1))*np.sqrt((m+1)*(m+2))\n",
    "                \n",
    "            elif m==i+2:\n",
    "                Q[i][m]=(2*(m-2)+1+2*m+1)*np.sqrt(m*m-1)\n",
    "                \n",
    "    return np.asarray(Q)*1/4\n",
    "print(create_Q4(4))\n"
   ]
  }
 ],
 "metadata": {
  "kernelspec": {
   "display_name": "Python 3",
   "language": "python",
   "name": "python3"
  },
  "language_info": {
   "codemirror_mode": {
    "name": "ipython",
    "version": 3
   },
   "file_extension": ".py",
   "mimetype": "text/x-python",
   "name": "python",
   "nbconvert_exporter": "python",
   "pygments_lexer": "ipython3",
   "version": "3.7.4"
  }
 },
 "nbformat": 4,
 "nbformat_minor": 2
}
