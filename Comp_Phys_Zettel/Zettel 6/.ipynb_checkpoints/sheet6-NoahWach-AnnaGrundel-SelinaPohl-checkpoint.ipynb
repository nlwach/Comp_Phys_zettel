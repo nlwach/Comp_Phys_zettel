{
 "cells": [
  {
   "cell_type": "markdown",
   "metadata": {},
   "source": [
    "# Homework 6\n",
    "\n",
    "### Selina Pohl, Noah Wach, Anna Grundel"
   ]
  },
  {
   "cell_type": "code",
   "execution_count": 1,
   "metadata": {},
   "outputs": [],
   "source": [
    "import numpy as np\n",
    "import scipy.linalg as la\n",
    "import matplotlib.pyplot as plt\n",
    "from numpy.linalg import matrix_power\n",
    "from scipy import linalg\n",
    "#from tabulate import tabulate"
   ]
  },
  {
   "cell_type": "markdown",
   "metadata": {},
   "source": [
    "#### a)\n",
    "In the first part of the excercise a NxN matrix $Q^4$ is constructed. From the lecture, we know from the script that\n",
    "\n",
    "\n",
    "$$Q^2_{n,m} = \\frac{1}{2}\\left(\\psi_n * (a+a^*) * (a+a^*)*\\psi_m\\right)\n",
    "=\\frac{1}{2}\\left(\\psi_n *\\left( aa + (2\\hat{n}+1)+a^*a^*\\right) *\\psi_m\\right)$$\n",
    "\n",
    "in just the same manner, $Q^4$ can be calculated using the operators $a$ and $a^*$\n",
    "this leads to\n",
    "\n",
    "$$Q^4_{n,m} = \\frac{1}{4}\\left(\\psi_n* *\\left( aa + (2\\hat{n}+1)+a^*a^*\\right) *\\left( aa + (2\\hat{n}+1)+a^*a^*\\right)*\\psi_m\\right)$$\n",
    "\n",
    "$$ = \\frac{1}{4}\\left(\\psi_n* *\\left( aaaa + aa(2\\hat{n}+1)+a^*a^*(2\\hat{n}+1)+(2\\hat{n}+1)^2+a^*a^*a^*a^*\\right)*\\psi_m\\right)$$\n",
    "\n",
    "the effect of the operators on $\\psi_m$ is calculated individually:\n",
    "\n",
    "$$aaaa*\\psi_m =\\sqrt{m(m-1)(m-2)(m-3)}* \\psi_{m-4} $$\n",
    "\n",
    "$$a^*a^*a^*a*\\psi_m =\\sqrt{(m+1)(m+2)(m+3)(m+4)}* \\psi_{m+4} $$\n",
    "\n",
    "$$a^*a^*(2\\hat{n}+1)\\psi_m =(2m+1)\\sqrt{(m+1)(m+2)}* \\psi_{m+2} $$\n",
    "\n",
    "$$(2\\hat{n}+1)a^*a^*\\psi_m =(2(m+2)+1)\\sqrt{(m+1)(m+2)}* \\psi_{m+2} $$\n",
    "\n",
    "$$(2\\hat{n}+1)aa\\psi_m =(2(m-2)+1)\\sqrt{m(m-1)}* \\psi_{m-2} $$\n",
    "\n",
    "$$aa(2\\hat{n}+1)\\psi_m=(2m+1)\\sqrt{m(m-1)}\\psi_{m-2}$$\n",
    "\n",
    "$$aaa^*a^**\\psi_m=(m+1)(m+2)*\\psi_m$$\n",
    "\n",
    "$$a^*a^*aa*\\psi_m=m(m-1)*\\psi_m$$\n",
    "\n",
    "$$(2\\hat{n}+1)^2*\\psi_m=(2m+1)^2*\\psi_m$$\n",
    "\n",
    "\n",
    "with $\\psi_m*\\psi_m=\\delta_{n, m}$ and the above results, we get the final expression \n",
    "\n",
    "$$Q^4_{n,m}=\\frac{1}{4}\\left( \\sqrt{m(m-1)(m-2)(m-3)}\\delta_{n, m-4}+\\sqrt{(m+1)(m+2)(m+3)(m+4)}\\delta_{n, m+4}\\\\ +((2m+1)+(2(m+2)+1))\\sqrt{(m+1)(m+2)}*\\delta_{n, m+2}\\\\\n",
    "+((2m+1)+(2(m-2)+1)\\sqrt{m(m-1)}\\delta_{n, m-2}\\\\+\\left((m+1)(m+2)+m(m-1)+(2m+1)^2\\right)\\delta_{n, m}\\right )$$\n",
    "\n",
    "As this was a very tedious calculation, some errors might have slipped in. \n",
    "We still continue under the assumption, that this is in fact the right formula, and use it to make a function that creates a matrix $Q^4$"
   ]
  },
  {
   "cell_type": "code",
   "execution_count": 215,
   "metadata": {},
   "outputs": [
    {
     "name": "stdout",
     "output_type": "stream",
     "text": [
      "[[ 0.75        0.          2.59807621  0.        ]\n",
      " [ 0.          3.75        0.          7.07106781]\n",
      " [ 2.12132034  0.          9.75        0.        ]\n",
      " [ 0.          6.12372436  0.         18.75      ]]\n"
     ]
    }
   ],
   "source": [
    "def create_Q4(N): #N: Matrix size (N*N)-Matrix\n",
    "    Q = np.zeros([N,N])\n",
    "    i=0\n",
    "    m=0\n",
    "    for i in range(N):\n",
    "        # fill matrix with values \n",
    "        for m in range(N):\n",
    "            if (m==i):\n",
    "                Q[i][m]= (m+1)*(m+2)+m*(m-1)+(2*m+1)**2\n",
    "                \n",
    "            elif m==i+4:\n",
    "                Q[i][m] =np.sqrt(m*(m-1)*(m-2)*(m-3))\n",
    "            elif m==i-4:\n",
    "                Q[i][m]= np.sqrt((m+1)*(m+2)*(m+3)*(m+4))\n",
    "                \n",
    "                    \n",
    "            elif m == i-2:\n",
    "                Q[i][m]=((2*m+1)+(2*(m+2)+1))*np.sqrt((m+1)*(m+2))\n",
    "                \n",
    "            elif m==i+2:\n",
    "                Q[i][m]=(2*(m-2)+1+2*m+1)*np.sqrt(m*m-1)\n",
    "                \n",
    "    return np.asarray(Q)*1/4\n",
    "print(create_Q4(4)) #example matrix"
   ]
  },
  {
   "cell_type": "markdown",
   "metadata": {},
   "source": [
    "Another approach is to look at the given equation and create the matrix Q first.\n",
    "\n",
    "\\begin{equation*}\n",
    "Q_{nm} = \\frac{1}{\\sqrt{2}}\\left(\\sqrt{n+1}\\delta_{n, m-1} + \\sqrt{n}\\delta_{n, m+1}\\right)\n",
    "\\end{equation*}"
   ]
  },
  {
   "cell_type": "code",
   "execution_count": 2,
   "metadata": {},
   "outputs": [],
   "source": [
    "def create_Q(N):\n",
    "    Q = np.zeros([N,N])\n",
    "    for i in range(N-1):\n",
    "        Q[i][i+1] = np.sqrt(i+1)/np.sqrt(2)\n",
    "        Q[i+1][i] = np.sqrt(i+1)/np.sqrt(2)\n",
    "    return Q"
   ]
  },
  {
   "cell_type": "markdown",
   "metadata": {},
   "source": [
    "To get the fourth power of Q we use the ```matrix_power```function from the ```numpy```package."
   ]
  },
  {
   "cell_type": "markdown",
   "metadata": {},
   "source": [
    "#### b)\n",
    "The function ```harmonic_oscillator```creates a $NxN$ Matrix with entries of a harmonic oscillator and ```perturbed_oscillator``` perturbes the system."
   ]
  },
  {
   "cell_type": "code",
   "execution_count": 3,
   "metadata": {},
   "outputs": [],
   "source": [
    "def harmonic_oscillator(N):\n",
    "    M = np.zeros([N,N])\n",
    "    for n in range(N):\n",
    "        M[n][n] = n + 0.5\n",
    "    return M"
   ]
  },
  {
   "cell_type": "code",
   "execution_count": 4,
   "metadata": {},
   "outputs": [],
   "source": [
    "def perturbed_oscillator(N, lam):\n",
    "    Q = create_Q(N)\n",
    "    Q = matrix_power(Q, 4)\n",
    "    M = harmonic_oscillator(N)\n",
    "    H = M + lam * Q   \n",
    "    return H"
   ]
  },
  {
   "cell_type": "markdown",
   "metadata": {},
   "source": [
    "We use ```linalg.eigh```from the ```scipy```package to calculate the eigenvalues of the perturbed system.  \n",
    "In the following we will compute the eigenvalues for a matrix with N=15 to N=30.  \n",
    "  \n",
    "To demonstrate the program, we plot the enumerated eigenvalues. We can see that the values converge with increasing N."
   ]
  },
  {
   "cell_type": "code",
   "execution_count": 216,
   "metadata": {},
   "outputs": [
    {
     "data": {
      "text/plain": [
       "Text(0.5, 1.0, 'behaviour of eigenvalues as function of N')"
      ]
     },
     "execution_count": 216,
     "metadata": {},
     "output_type": "execute_result"
    },
    {
     "data": {
      "image/png": "[encoded data removed]",
      "text/plain": [
       "<Figure size 864x864 with 1 Axes>"
      ]
     },
     "metadata": {
      "needs_background": "light"
     },
     "output_type": "display_data"
    }
   ],
   "source": [
    "n = np.linspace(0,9,10)\n",
    "\n",
    "plt.figure(figsize=(12,12))\n",
    "Eigenvalues = []\n",
    "Eigenvectors = []\n",
    "for i in range(15, 31):\n",
    "    H = perturbed_oscillator(i, 0.1)\n",
    "    eigenvalues, eigenvectors = linalg.eigh(H)\n",
    "    Eigenvalues.append(eigenvalues) #store these values\n",
    "    Eigenvectors.append(eigenvectors[:,0])\n",
    "    plt.scatter(n,eigenvalues[0:10:1], label=\"N = {}\".format(i)) #plot behaviour of Eigenvalues dependent of N\n",
    "    \n",
    "\n",
    "plt.legend()\n",
    "plt.ylabel(\"Energy in unites of $\\hbar \\cdot \\omega$\")\n",
    "plt.xlabel(\"Eigenvalue number\")\n",
    "plt.title(\"behaviour of eigenvalues as function of N\")"
   ]
  },
  {
   "cell_type": "markdown",
   "metadata": {},
   "source": [
    "To illustrtrate our calculations, we plot the second, fith and tenth eigenvalue, which was calculated using a matrices of the size  15x15 to 30x30."
   ]
  },
  {
   "cell_type": "code",
   "execution_count": 15,
   "metadata": {},
   "outputs": [],
   "source": [
    "second_eigenvalue = []\n",
    "fifth_eigenvalue = []\n",
    "tenth_eigenvalue = []\n",
    "for i in Eigenvalues:\n",
    "    second_eigenvalue.append(i[1])\n",
    "    fifth_eigenvalue.append(i[4])\n",
    "    tenth_eigenvalue.append(i[9])"
   ]
  },
  {
   "cell_type": "code",
   "execution_count": 16,
   "metadata": {},
   "outputs": [
    {
     "data": {
      "text/plain": [
       "[<matplotlib.lines.Line2D at 0x19fcf7ffc88>]"
      ]
     },
     "execution_count": 16,
     "metadata": {},
     "output_type": "execute_result"
    },
    {
     "data": {
      "image/png": "[encoded data removed]",
      "text/plain": [
       "<Figure size 792x792 with 3 Axes>"
      ]
     },
     "metadata": {
      "needs_background": "light"
     },
     "output_type": "display_data"
    }
   ],
   "source": [
    "X = np.linspace(15, 30, 16)\n",
    "fig = plt.figure(figsize=(11,11))\n",
    "ax1 = plt.subplot(2,2,1)\n",
    "ax1.set_title(\"second eigenvalue\")\n",
    "ax1.set_ylabel(\"value\")\n",
    "ax1.set_xlabel(\"size of NxN matrix\")\n",
    "ax1.plot(X, second_eigenvalue)\n",
    "ax2 = plt.subplot(2,2,2)\n",
    "ax2.set_title(\"fith eigenvalue\")\n",
    "ax2.set_ylabel(\"value\")\n",
    "ax2.set_xlabel(\"size of NxN matrix\")\n",
    "ax2.plot(X, fifth_eigenvalue)\n",
    "ax3 = plt.subplot(2,2,3)\n",
    "ax3.set_title(\"tenth eigenvalue\")\n",
    "ax3.set_ylabel(\"value\")\n",
    "ax3.set_xlabel(\"size of NxN matrix\")\n",
    "ax3.plot(X, tenth_eigenvalue)"
   ]
  },
  {
   "cell_type": "markdown",
   "metadata": {},
   "source": [
    "We can see that the value converges for higher N, just as it is supposed to.  \n",
    "  \n",
    "Additionally we want to check if our computed eigenvalues and eigenvectors solve the problem correctly.  \n",
    "To do so we need to check the equation $H\\vec{x} = \\lambda \\vec{x}$.  \n",
    "Below we calculate the difference between both sides, which ideally should be 0."
   ]
  },
  {
   "cell_type": "code",
   "execution_count": 254,
   "metadata": {},
   "outputs": [
    {
     "name": "stdout",
     "output_type": "stream",
     "text": [
      "[ 1.11022302e-16 -1.75758724e-16 -6.93889390e-17  1.01500823e-16\n",
      "  3.41740525e-16  5.06342591e-17  7.71951947e-17 -1.11409491e-18\n",
      "  8.48930301e-17 -9.72852377e-19  7.98794421e-18  5.27489703e-20\n",
      " -6.40085858e-17 -1.02898826e-31 -6.26126755e-18]\n",
      "[ 0.00000000e+00 -1.38900385e-16 -4.44089210e-16  1.24488978e-16\n",
      "  6.59194921e-17 -1.94744708e-17  1.17527515e-16 -1.95875438e-18\n",
      "  3.34910051e-16  5.35753969e-19  2.40223626e-16  1.25829112e-19\n",
      " -6.83860520e-17 -4.65352823e-32 -5.04458942e-17  8.12622066e-32]\n",
      "[-1.11022302e-16 -1.61397500e-16 -3.40005801e-16  8.00708532e-17\n",
      " -4.42354486e-17  2.16039478e-17 -1.72171305e-16 -6.93089493e-18\n",
      " -9.10729825e-17  1.72267619e-18  1.46274120e-16 -5.54599586e-19\n",
      "  2.58853269e-17  2.27458345e-31 -1.47993597e-16  1.12871532e-31\n",
      " -1.29728178e-16]\n",
      "[ 0.00000000e+00 -1.40187008e-16 -1.87350135e-16  1.12904029e-16\n",
      "  2.55004351e-16  3.29356878e-17 -1.92120625e-16  1.17537561e-17\n",
      " -1.68485018e-16  1.28765294e-18  7.14150418e-17 -6.34643365e-19\n",
      "  2.24484060e-16 -4.74864359e-31  2.83830576e-16 -4.27600082e-31\n",
      "  1.35255915e-16 -2.14280771e-31]\n",
      "[ 0.00000000e+00 -1.94858273e-16 -4.78783679e-16  8.92887986e-17\n",
      "  1.93421668e-16 -5.24261308e-18  1.74339709e-16  8.12247008e-18\n",
      " -2.05781572e-16 -1.75202157e-18 -3.26654021e-16 -5.57338744e-19\n",
      " -3.49926251e-16 -7.79519373e-20 -2.50775962e-16  8.45646498e-31\n",
      " -6.07441208e-17  3.80474984e-31  2.36423836e-17]\n",
      "[-1.11022302e-16 -2.11469891e-16 -5.13478149e-16  9.38660080e-17\n",
      " -3.81639165e-17 -1.87758620e-17  3.98119038e-16  3.21801122e-18\n",
      "  4.00070602e-16  3.00168036e-18  4.26295165e-16 -1.91046006e-19\n",
      "  2.06499856e-16  2.00697790e-19 -7.02291957e-17  4.30150435e-31\n",
      " -1.86132102e-16  2.61804597e-31 -1.23326131e-16  8.56989925e-32]\n",
      "[-1.11022302e-16 -1.38550726e-16 -5.06539255e-16  1.29376766e-16\n",
      " -4.75314232e-16 -3.14284013e-17 -4.09828421e-16  2.09666734e-17\n",
      " -1.93530088e-16 -7.79899819e-19  9.11945317e-17 -3.10553660e-19\n",
      "  1.42328640e-16  5.11714144e-20  8.98227619e-17  4.55693080e-32\n",
      "  1.32942668e-16  1.99224663e-32  9.42119807e-17 -2.30618450e-31\n",
      " -5.36701251e-18]\n",
      "[ 1.11022302e-16 -1.73984230e-16  8.32667268e-17  1.12453805e-16\n",
      "  4.44956572e-16  6.47361958e-17  2.25080371e-16 -3.85937739e-17\n",
      "  6.39679282e-18 -3.90215235e-18 -9.03911210e-18  1.95849729e-18\n",
      " -3.82045741e-17 -1.40926702e-19 -1.71710519e-16 -3.93551747e-31\n",
      " -6.38789897e-17  1.67730443e-31  5.96025321e-17  5.64639778e-31\n",
      "  9.76099593e-17  3.88672975e-31]\n",
      "[-1.11022302e-16 -1.38187802e-16 -4.57966998e-16  1.32597201e-16\n",
      " -1.42247325e-16  2.00331478e-17  1.07986536e-16  6.02405833e-17\n",
      "  1.93638508e-16  2.85877015e-18  1.46249556e-16 -6.19654185e-19\n",
      "  1.19316449e-16  1.31600548e-19  6.03731203e-17  1.19571594e-20\n",
      " -7.17436906e-18 -1.60428084e-30 -7.54136726e-17 -9.73683976e-31\n",
      " -8.02087261e-17 -9.64428228e-31 -5.21056553e-17]\n",
      "[ 0.00000000e+00 -1.39837322e-16 -2.15105711e-16  1.17965897e-16\n",
      " -2.06432094e-16  2.18554163e-17 -1.09721260e-16  3.77734597e-17\n",
      " -1.64798730e-17 -2.46442626e-20  4.16231990e-17 -1.93892349e-19\n",
      "  1.71642756e-16  8.38634388e-20  1.88004045e-16  2.13416163e-20\n",
      "  1.41712000e-16 -3.96766019e-32  1.59845705e-18 -2.81711453e-31\n",
      "  1.76807540e-17 -5.02090501e-31  3.02410879e-17 -2.73607595e-31]\n",
      "[ 0.00000000e+00 -1.98269463e-16 -5.55111512e-17  6.04047712e-17\n",
      "  9.54097912e-18  3.69709427e-17  1.37910516e-16  8.12298038e-18\n",
      "  5.52943108e-17 -2.36341574e-18 -2.60411809e-17  9.72754752e-19\n",
      " -8.18572640e-17  3.51641279e-19 -1.33926073e-16  1.11544637e-19\n",
      " -7.00377663e-17  5.39629019e-31 -1.52412144e-16  1.13876937e-30\n",
      " -1.32932292e-16  1.11477301e-30 -4.72756616e-17  1.03507990e-30\n",
      "  8.20864923e-18]\n",
      "[ 0.00000000e+00 -1.73872080e-16 -1.73472348e-16  1.17125545e-16\n",
      " -1.35308431e-16  5.15398552e-17  1.01915004e-16  3.75204917e-18\n",
      "  2.24429850e-16 -1.97992059e-17  2.86951893e-16 -2.51577073e-18\n",
      "  8.75764305e-17 -1.56548463e-19 -8.26738038e-17 -7.26873749e-21\n",
      "  8.68378178e-18 -9.34054958e-31  9.38000051e-17  1.52495660e-31\n",
      "  6.45536515e-17  9.16535955e-31 -8.84333102e-17  7.92386665e-31\n",
      " -1.09872085e-16  3.17329684e-31]\n",
      "[ 0.00000000e+00 -2.20891938e-16 -6.93889390e-18  1.66463042e-17\n",
      " -3.03576608e-17  4.71816375e-17 -1.70436582e-16  1.24134281e-17\n",
      " -9.31329666e-17  1.57432699e-17  9.23608961e-17  4.69436087e-18\n",
      "  3.40032906e-17 -2.08381064e-19 -1.71588546e-16 -6.83433477e-20\n",
      " -1.22523316e-16 -3.84500868e-21 -4.78352328e-17 -1.81750470e-31\n",
      "  1.38970155e-16 -1.45385104e-30  2.36459306e-16 -9.54671907e-31\n",
      "  1.54227177e-16 -1.19859423e-31  4.97759309e-17]\n",
      "[ 0.00000000e+00 -1.61635037e-16  4.85722573e-17  8.09731893e-17\n",
      "  2.56739074e-16  2.76295835e-17 -2.64545330e-17  3.97975940e-17\n",
      " -2.68882139e-17  8.53856168e-18  2.23336754e-16 -1.01512763e-18\n",
      "  2.47062570e-16  7.17965232e-19  1.47722546e-17 -6.19269022e-20\n",
      " -7.83031138e-17  1.66005592e-20 -2.17573436e-16  2.04574009e-31\n",
      " -3.11258562e-16 -1.49627641e-31 -1.93727235e-16 -4.42266114e-31\n",
      " -1.05576039e-17 -4.50259744e-31  4.77481224e-17 -1.92082101e-31]\n",
      "[ 0.00000000e+00 -2.28180421e-16 -3.67761377e-16  9.73211058e-17\n",
      "  2.16840434e-17  6.90143845e-17  2.64545330e-17  5.51783310e-17\n",
      " -2.00035301e-16 -4.40401714e-18 -7.32259983e-19 -4.20708807e-18\n",
      "  1.77023110e-16 -7.58805914e-19  1.36623026e-16 -2.51542110e-19\n",
      "  1.99838789e-16 -1.97146437e-20  1.45127661e-16 -4.23972619e-30\n",
      "  5.64166295e-17 -2.79142481e-30 -1.21104430e-16 -2.64299123e-30\n",
      " -1.34927875e-16 -2.31211708e-30 -3.45296852e-17 -2.17099591e-30\n",
      "  1.28725582e-17]\n",
      "[-1.11022302e-16 -1.58210610e-16 -3.40005801e-16  1.04953160e-16\n",
      "  3.12250226e-17  3.11065636e-17  2.51534904e-16 -6.70576581e-18\n",
      " -9.10729825e-18  6.63296240e-19 -8.75476314e-17 -1.88901505e-18\n",
      " -1.92594963e-16 -1.89485294e-19 -3.45386155e-16 -1.80149014e-19\n",
      " -1.74144045e-16 -5.28101560e-20 -3.57923301e-17  2.54692950e-31\n",
      "  6.90702429e-17  3.62128667e-32  6.07496265e-17 -8.93598110e-32\n",
      " -3.44186544e-19  6.13987665e-31 -4.86876110e-17  9.30617918e-31\n",
      " -3.94055774e-17  5.23737627e-31]\n"
     ]
    }
   ],
   "source": [
    "#test the calculation by checking the Eigenvalue equation Hx = lx\n",
    "\n",
    "maxdiff = []\n",
    "for i in range(15,31):\n",
    "    h = perturbed_oscillator(i, 0.1)\n",
    "    evalues, evectors = linalg.eigh(h)\n",
    "    diff = evalues[0]*evectors[:,0] - h.dot(evectors[:,0])\n",
    "    abs_diff = np.abs(diff) #absolute difference\n",
    "    maxdiff.append(np.amax(abs_diff))\n",
    "    print(diff)"
   ]
  },
  {
   "cell_type": "markdown",
   "metadata": {},
   "source": [
    "This suggests that the program works fine since the numbers are very small (nearly 0).  \n",
    "To quickly check the quantity of the deviation it is usefull to look at the maximum of the absolute differences:"
   ]
  },
  {
   "cell_type": "code",
   "execution_count": 255,
   "metadata": {},
   "outputs": [
    {
     "name": "stdout",
     "output_type": "stream",
     "text": [
      "[3.41740524767431e-16, 4.440892098500626e-16, 3.400058012914542e-16, 2.83830576229549e-16, 4.787836793695988e-16, 5.134781488891349e-16, 5.065392549852277e-16, 4.44956571588051e-16, 4.579669976578771e-16, 2.1510571102112408e-16, 1.9826946261318637e-16, 2.869518926401811e-16, 2.364593057422866e-16, 3.112585618528273e-16, 3.677613769070831e-16, 3.453861545724135e-16]\n"
     ]
    }
   ],
   "source": [
    "print(maxdiff)"
   ]
  },
  {
   "cell_type": "markdown",
   "metadata": {},
   "source": [
    "As the maximum of the deviation still is pretty small, the program works.  \n",
    "#### c)\n",
    "Lastly we had to calculate the eigenvalues analytically, which will be done with the following formula  \n",
    "\n",
    "\\begin{equation}\n",
    "E_{n}=E_n^0+E_n^1=n+1/2+\\lambda(1.5n^2+1.5n+0.75)\n",
    "\\end{equation}"
   ]
  },
  {
   "cell_type": "code",
   "execution_count": 12,
   "metadata": {},
   "outputs": [],
   "source": [
    "analytic_eigenvalue = []\n",
    "lam = 0.1\n",
    "for n in range(9):\n",
    "    analytic_eigenvalue.append(n + 0.5 + lam*(1.5*n**2+1.5*n+0.75))\n",
    "\n",
    "H = perturbed_oscillator(31, 0.1)\n",
    "eigenvalues = linalg.eigh(H, eigvals_only=True)\n",
    "error = np.array(np.abs(eigenvalues[:9] - analytic_eigenvalue)/analytic_eigenvalue)\n",
    "results = np.array([np.linspace(0,8,9), np.array(eigenvalues[:9]), np.array(analytic_eigenvalue), error])"
   ]
  },
  {
   "cell_type": "code",
   "execution_count": 13,
   "metadata": {},
   "outputs": [
    {
     "name": "stdout",
     "output_type": "stream",
     "text": [
      "  n    calc. Eigenvalues    analytically calc. Eigenvalues    % Error\n",
      "---  -------------------  --------------------------------  ---------\n",
      "  0             0.559146                             0.575  0.0275716\n",
      "  1             1.7695                               1.875  0.0562653\n",
      "  2             3.13862                              3.475  0.0967988\n",
      "  3             4.62888                              5.375  0.138813\n",
      "  4             6.2203                               7.575  0.178838\n",
      "  5             7.89977                             10.075  0.215904\n",
      "  6             9.65784                             12.875  0.249877\n",
      "  7            11.4873                              15.975  0.280919\n",
      "  8            13.3825                              19.375  0.309292\n"
     ]
    }
   ],
   "source": [
    "print(tabulate(np.column_stack(results), headers=['n','calc. Eigenvalues',\n",
    "                                                'analytically calc. Eigenvalues', '% Error']))"
   ]
  },
  {
   "cell_type": "markdown",
   "metadata": {},
   "source": [
    "The error increases with higher n because only 1st order pertubation is used"
   ]
  }
 ],
 "metadata": {
  "kernelspec": {
   "display_name": "Python 3",
   "language": "python",
   "name": "python3"
  },
  "language_info": {
   "codemirror_mode": {
    "name": "ipython",
    "version": 3
   },
   "file_extension": ".py",
   "mimetype": "text/x-python",
   "name": "python",
   "nbconvert_exporter": "python",
   "pygments_lexer": "ipython3",
   "version": "3.7.6"
  },
  "latex_envs": {
   "LaTeX_envs_menu_present": true,
   "autoclose": false,
   "autocomplete": true,
   "bibliofile": "biblio.bib",
   "cite_by": "apalike",
   "current_citInitial": 1,
   "eqLabelWithNumbers": true,
   "eqNumInitial": 1,
   "hotkeys": {
    "equation": "Ctrl-E",
    "itemize": "Ctrl-I"
   },
   "labels_anchors": false,
   "latex_user_defs": false,
   "report_style_numbering": false,
   "user_envs_cfg": false
  }
 },
 "nbformat": 4,
 "nbformat_minor": 4
}
