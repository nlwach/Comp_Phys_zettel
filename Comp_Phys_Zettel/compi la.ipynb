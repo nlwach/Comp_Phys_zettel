{
 "cells": [
  {
   "cell_type": "code",
   "execution_count": 257,
   "metadata": {},
   "outputs": [],
   "source": [
    "import numpy as np\n",
    "\n",
    "def triag (B):\n",
    "    n = len(B)\n",
    "    i = 0\n",
    "    j = 0\n",
    "    \n",
    "    while i < n:\n",
    "            B[i] = B[i]/B[i][i]\n",
    "            j = i\n",
    "            while j < n:\n",
    "                if j == i:\n",
    "                    j = j+1\n",
    "                else: \n",
    "                    B[j]=B[j]-B[i]*B[j][i]\n",
    "                    j = j+1\n",
    "            j = 0\n",
    "            i = i+1\n",
    "            y = np.array(B[:,n]).T\n",
    "            R = np.array(B[:n,:n])\n",
    "    return R,y,B"
   ]
  },
  {
   "cell_type": "code",
   "execution_count": 258,
   "metadata": {},
   "outputs": [
    {
     "data": {
      "text/plain": [
       "array([[1.  , 0.5 , 0.5 ],\n",
       "       [0.5 , 0.5 , 0.25]])"
      ]
     },
     "execution_count": 258,
     "metadata": {},
     "output_type": "execute_result"
    }
   ],
   "source": [
    "A = np.array([[1,1/2],\n",
    "            [1/2, 1/2]])\n",
    "lös = np.array([[1/2,1/4]])\n",
    "\n",
    "#a,b,c=triag(A,lös)\n",
    "np.concatenate((A,lös.T),axis=1)"
   ]
  },
  {
   "cell_type": "code",
   "execution_count": null,
   "metadata": {},
   "outputs": [],
   "source": []
  },
  {
   "cell_type": "code",
   "execution_count": 330,
   "metadata": {},
   "outputs": [],
   "source": [
    "unitymatrix = None\n",
    "def unity(A):\n",
    "    n = len(A)\n",
    "    i = 0\n",
    "    j = 0\n",
    "    while i < n:\n",
    "        if A[i][i] == 1:\n",
    "            while j < n:\n",
    "                if A[i][j] == 0:\n",
    "                    print('unity matrix')\n",
    "                    j = j+1\n",
    "                    i = i+1\n",
    "                    unitymatrix = True\n",
    "                    break\n",
    "                else:\n",
    "                    print('no unity matrix: need for backward substitution')\n",
    "                    unitymatrix = False\n",
    "                    break\n",
    "            break"
   ]
  },
  {
   "cell_type": "code",
   "execution_count": 315,
   "metadata": {},
   "outputs": [],
   "source": [
    "def backward(C):\n",
    "    n = len(C)\n",
    "    m = len(C)-1\n",
    "    x = np.ones(n)\n",
    "    R = np.array(C[:n,:n])\n",
    "    y = np.array(C[:,n])\n",
    "    for i in range(m,-1,-1):\n",
    "        x[i] = y[i]\n",
    "        for j in range(m,i+1,-1):\n",
    "            x[i] = x[i] - C[i][j]*x[j]\n",
    "    return x"
   ]
  },
  {
   "cell_type": "code",
   "execution_count": 261,
   "metadata": {},
   "outputs": [],
   "source": [
    "#Funktion für a,b,c,y in matrix patschen\n",
    "def matrix(a,b,c,y):\n",
    "    n = len(b)\n",
    "    matrix = np.array(np.ones(n)*0)\n",
    "    i = 1\n",
    "    mat = matrix\n",
    "    while i < n:\n",
    "        mat = np.vstack((mat,matrix))\n",
    "        i = i+1\n",
    "    j = 0\n",
    "    while j < n:\n",
    "        mat[j][j] = b[j]\n",
    "        j = j+1\n",
    "    k = 0\n",
    "    while k < n-1:\n",
    "        mat[k+1][k] = a[k]\n",
    "        k = k+1\n",
    "    p = 0\n",
    "    while p < n-1:\n",
    "        mat[p][p+1] = c[p]\n",
    "        p = p+1\n",
    "    mat = np.hstack((mat,y))\n",
    "    return mat\n"
   ]
  },
  {
   "cell_type": "code",
   "execution_count": null,
   "metadata": {},
   "outputs": [],
   "source": [
    "#erst Daten eingeben und Matrix erstellen\n",
    "#dann Dreiecksmatrix machen mit Gauß\n",
    "#checken ob Einheitsmatrix:\n",
    "    #-> ja: Ausgabe von x\n",
    "    #-> nein: backsub\n",
    "            #dann Ausgabe von x"
   ]
  },
  {
   "cell_type": "code",
   "execution_count": 352,
   "metadata": {},
   "outputs": [],
   "source": [
    "def solution(a,b,c,y):\n",
    "    mat = matrix(a,b,c,y)\n",
    "    R,y,B = triag(mat)\n",
    "    unity(R)\n",
    "    print('the solution is:')\n",
    "    if unitymatrix == True:\n",
    "        print(y)\n",
    "    else:\n",
    "        x = backward(B)\n",
    "    return x\n",
    "        "
   ]
  },
  {
   "cell_type": "code",
   "execution_count": 328,
   "metadata": {},
   "outputs": [],
   "source": [
    "a = np.array([1,2])\n",
    "b = np.array([5,9,10])\n",
    "c = np.array([-6,1])\n",
    "y = np.array([[4],[1],[3]])"
   ]
  },
  {
   "cell_type": "code",
   "execution_count": 353,
   "metadata": {},
   "outputs": [
    {
     "name": "stdout",
     "output_type": "stream",
     "text": [
      "no unity matrix: need for backward substitution\n",
      "the solution is:\n"
     ]
    },
    {
     "data": {
      "text/plain": [
       "array([0.06666667, 0.1       , 0.11428571, 0.12      , 0.12222222,\n",
       "       0.12307692, 0.12340426, 0.12352941, 0.12357724, 0.12359551])"
      ]
     },
     "execution_count": 353,
     "metadata": {},
     "output_type": "execute_result"
    }
   ],
   "source": [
    "solution(a,b,c,y)"
   ]
  },
  {
   "cell_type": "code",
   "execution_count": 354,
   "metadata": {},
   "outputs": [
    {
     "name": "stdout",
     "output_type": "stream",
     "text": [
      "no unity matrix: need for backward substitution\n",
      "the solution is:\n"
     ]
    },
    {
     "data": {
      "text/plain": [
       "array([0.06666667, 0.1       , 0.11428571, 0.12      , 0.12222222,\n",
       "       0.12307692, 0.12340426, 0.12352941, 0.12357724, 0.12359551])"
      ]
     },
     "execution_count": 354,
     "metadata": {},
     "output_type": "execute_result"
    }
   ],
   "source": [
    "#nr 4\n",
    "N = 10\n",
    "a = np.ones(N-1)*(-1)\n",
    "b = np.ones(N)*3\n",
    "c = np.ones(N-1)*(-1)\n",
    "y = np.array([[0.2],[0.2],[0.2],[0.2],[0.2],[0.2],[0.2],[0.2],[0.2],[0.2]])\n",
    "\n",
    "solution(a,b,c,y)\n"
   ]
  },
  {
   "cell_type": "code",
   "execution_count": 355,
   "metadata": {},
   "outputs": [
    {
     "name": "stdout",
     "output_type": "stream",
     "text": [
      "no unity matrix: need for backward substitution\n",
      "the solution is:\n"
     ]
    }
   ],
   "source": [
    "xx = solution(a,b,c,y)"
   ]
  },
  {
   "cell_type": "code",
   "execution_count": 356,
   "metadata": {},
   "outputs": [],
   "source": [
    "def matrix_ohne_lös(a,b,c):\n",
    "    n = len(b)\n",
    "    matrix = np.array(np.ones(n)*0)\n",
    "    i = 1\n",
    "    mat = matrix\n",
    "    while i < n:\n",
    "        mat = np.vstack((mat,matrix))\n",
    "        i = i+1\n",
    "    j = 0\n",
    "    while j < n:\n",
    "        mat[j][j] = b[j]\n",
    "        j = j+1\n",
    "    k = 0\n",
    "    while k < n-1:\n",
    "        mat[k+1][k] = a[k]\n",
    "        k = k+1\n",
    "    p = 0\n",
    "    while p < n-1:\n",
    "        mat[p][p+1] = c[p]\n",
    "        p = p+1\n",
    "    return mat"
   ]
  },
  {
   "cell_type": "code",
   "execution_count": 358,
   "metadata": {},
   "outputs": [],
   "source": [
    "matrix = matrix_ohne_lös(a,b,c)"
   ]
  },
  {
   "cell_type": "code",
   "execution_count": 360,
   "metadata": {},
   "outputs": [
    {
     "data": {
      "text/plain": [
       "array([0.1       , 0.11904762, 0.12285714, 0.12349206, 0.12358974,\n",
       "       0.12360429, 0.12360643, 0.12360674, 0.12360679, 0.24720928])"
      ]
     },
     "execution_count": 360,
     "metadata": {},
     "output_type": "execute_result"
    }
   ],
   "source": [
    "np.dot(matrix,xx)"
   ]
  },
  {
   "cell_type": "code",
   "execution_count": null,
   "metadata": {},
   "outputs": [],
   "source": []
  }
 ],
 "metadata": {
  "kernelspec": {
   "display_name": "Python 3",
   "language": "python",
   "name": "python3"
  },
  "language_info": {
   "codemirror_mode": {
    "name": "ipython",
    "version": 3
   },
   "file_extension": ".py",
   "mimetype": "text/x-python",
   "name": "python",
   "nbconvert_exporter": "python",
   "pygments_lexer": "ipython3",
   "version": "3.7.6"
  }
 },
 "nbformat": 4,
 "nbformat_minor": 4
}
